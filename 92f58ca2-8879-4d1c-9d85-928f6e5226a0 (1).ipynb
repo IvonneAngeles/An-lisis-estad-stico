{
 "cells": [
  {
   "cell_type": "markdown",
   "metadata": {
    "id": "3rYiDeEH0q0f"
   },
   "source": [
    "# ¿Cuál es la mejor tarifa?\n",
    "\n",
    "Trabajas como analista para el operador de telecomunicaciones Megaline. La empresa ofrece a sus clientes dos tarifas de prepago, Surf y Ultimate. El departamento comercial quiere saber cuál de las tarifas genera más ingresos para poder ajustar el presupuesto de publicidad.\n",
    "\n",
    "Vas a realizar un análisis preliminar de las tarifas basado en una selección de clientes relativamente pequeña. Tendrás los datos de 500 clientes de Megaline: quiénes son los clientes, de dónde son, qué tarifa usan, así como la cantidad de llamadas que hicieron y los mensajes de texto que enviaron en 2018. Tu trabajo es analizar el comportamiento de los clientes y determinar qué tarifa de prepago genera más ingresos."
   ]
  },
  {
   "cell_type": "markdown",
   "metadata": {},
   "source": [
    "Propósito del proyecto:\n",
    "En este proyeto se realizara la busqueda sobre cuál es paquete que que más ingresos genera, si es el paquete de prepago Surf o Ultimate, asi se podra determina a que plan de prepago de Megaline se le asigna un aumento en el presupuesto de publicidad.\n"
   ]
  },
  {
   "cell_type": "markdown",
   "metadata": {
    "id": "MQi4IPy70q0y"
   },
   "source": [
    "## Inicialización"
   ]
  },
  {
   "cell_type": "code",
   "execution_count": 3,
   "metadata": {
    "id": "MtYIuBxu0q0z"
   },
   "outputs": [],
   "source": [
    "# Cargar todas las librerías\n",
    "import pandas as pd\n",
    "import numpy as np\n",
    "import math as mt\n",
    "import seaborn as sns\n",
    "from math import ceil\n",
    "from math import factorial\n",
    "from scipy import stats as st\n",
    "from matplotlib import pyplot as plt"
   ]
  },
  {
   "cell_type": "markdown",
   "metadata": {
    "id": "4ysWWC5i0q00"
   },
   "source": [
    "## Cargar datos"
   ]
  },
  {
   "cell_type": "code",
   "execution_count": 4,
   "metadata": {
    "id": "CCqPW7rS0q01"
   },
   "outputs": [],
   "source": [
    "# Carga los archivos de datos en diferentes DataFrames\n",
    "df_megaline_calls = pd.read_csv(\"/datasets/megaline_calls.csv\")\n",
    "df_megaline_internet = pd.read_csv(\"/datasets/megaline_internet.csv\")\n",
    "df_megaline_messages = pd.read_csv(\"/datasets/megaline_messages.csv\")\n",
    "df_megaline_plans = pd.read_csv(\"/datasets/megaline_plans.csv\")\n",
    "df_megaline_users = pd.read_csv(\"/datasets/megaline_users.csv\")"
   ]
  },
  {
   "cell_type": "markdown",
   "metadata": {
    "id": "69qqoJ3r0q01"
   },
   "source": [
    "## Preparar los datos"
   ]
  },
  {
   "cell_type": "markdown",
   "metadata": {
    "id": "ohBhimvH0q01"
   },
   "source": [
    "## Tarifas"
   ]
  },
  {
   "cell_type": "code",
   "execution_count": 5,
   "metadata": {
    "id": "GptqP3Q40q02"
   },
   "outputs": [
    {
     "name": "stdout",
     "output_type": "stream",
     "text": [
      "<class 'pandas.core.frame.DataFrame'>\n",
      "RangeIndex: 2 entries, 0 to 1\n",
      "Data columns (total 8 columns):\n",
      " #   Column                 Non-Null Count  Dtype  \n",
      "---  ------                 --------------  -----  \n",
      " 0   messages_included      2 non-null      int64  \n",
      " 1   mb_per_month_included  2 non-null      int64  \n",
      " 2   minutes_included       2 non-null      int64  \n",
      " 3   usd_monthly_pay        2 non-null      int64  \n",
      " 4   usd_per_gb             2 non-null      int64  \n",
      " 5   usd_per_message        2 non-null      float64\n",
      " 6   usd_per_minute         2 non-null      float64\n",
      " 7   plan_name              2 non-null      object \n",
      "dtypes: float64(2), int64(5), object(1)\n",
      "memory usage: 256.0+ bytes\n"
     ]
    }
   ],
   "source": [
    "# Imprime la información general/resumida sobre el DataFrame de las tarifas\n",
    "df_megaline_plans.info()"
   ]
  },
  {
   "cell_type": "code",
   "execution_count": 6,
   "metadata": {
    "id": "64xzjwL70q02"
   },
   "outputs": [
    {
     "data": {
      "text/html": [
       "<div>\n",
       "<style scoped>\n",
       "    .dataframe tbody tr th:only-of-type {\n",
       "        vertical-align: middle;\n",
       "    }\n",
       "\n",
       "    .dataframe tbody tr th {\n",
       "        vertical-align: top;\n",
       "    }\n",
       "\n",
       "    .dataframe thead th {\n",
       "        text-align: right;\n",
       "    }\n",
       "</style>\n",
       "<table border=\"1\" class=\"dataframe\">\n",
       "  <thead>\n",
       "    <tr style=\"text-align: right;\">\n",
       "      <th></th>\n",
       "      <th>messages_included</th>\n",
       "      <th>mb_per_month_included</th>\n",
       "      <th>minutes_included</th>\n",
       "      <th>usd_monthly_pay</th>\n",
       "      <th>usd_per_gb</th>\n",
       "      <th>usd_per_message</th>\n",
       "      <th>usd_per_minute</th>\n",
       "      <th>plan_name</th>\n",
       "    </tr>\n",
       "  </thead>\n",
       "  <tbody>\n",
       "    <tr>\n",
       "      <th>0</th>\n",
       "      <td>50</td>\n",
       "      <td>15360</td>\n",
       "      <td>500</td>\n",
       "      <td>20</td>\n",
       "      <td>10</td>\n",
       "      <td>0.03</td>\n",
       "      <td>0.03</td>\n",
       "      <td>surf</td>\n",
       "    </tr>\n",
       "    <tr>\n",
       "      <th>1</th>\n",
       "      <td>1000</td>\n",
       "      <td>30720</td>\n",
       "      <td>3000</td>\n",
       "      <td>70</td>\n",
       "      <td>7</td>\n",
       "      <td>0.01</td>\n",
       "      <td>0.01</td>\n",
       "      <td>ultimate</td>\n",
       "    </tr>\n",
       "  </tbody>\n",
       "</table>\n",
       "</div>"
      ],
      "text/plain": [
       "   messages_included  mb_per_month_included  minutes_included  \\\n",
       "0                 50                  15360               500   \n",
       "1               1000                  30720              3000   \n",
       "\n",
       "   usd_monthly_pay  usd_per_gb  usd_per_message  usd_per_minute plan_name  \n",
       "0               20          10             0.03            0.03      surf  \n",
       "1               70           7             0.01            0.01  ultimate  "
      ]
     },
     "execution_count": 6,
     "metadata": {},
     "output_type": "execute_result"
    }
   ],
   "source": [
    "# Imprime una muestra de los datos para las tarifas\n",
    "df_megaline_plans"
   ]
  },
  {
   "cell_type": "markdown",
   "metadata": {},
   "source": [
    "Lo primero que podemos observar, es que cuenta con solo dos filas, las cuales nos describen cada plan, en la primera fila podemos observar la información del plan de prepago Surf y en la siguiente el plan de prepago Ultimate. "
   ]
  },
  {
   "cell_type": "markdown",
   "metadata": {
    "id": "R3C05i1l0q03"
   },
   "source": [
    "## Corregir datos"
   ]
  },
  {
   "cell_type": "markdown",
   "metadata": {
    "id": "LJir7bml0q03"
   },
   "source": [
    "## Enriquecer los datos"
   ]
  },
  {
   "cell_type": "markdown",
   "metadata": {},
   "source": [
    "Como podemos observar en la tabla, nos encontramos con la columna \"mb_per_month_included\" que contiene el la cantidad de megabytes que Megaline ofrece como base para sus planes de prepago, pero debido a que en la descripción de los planes estos se encuentran como gigabytes, los datos serán modificados para que estos muestren gigabytes en lugar de megabytes."
   ]
  },
  {
   "cell_type": "markdown",
   "metadata": {
    "id": "1n2X6WXf0q04"
   },
   "source": [
    "## Usuarios/as"
   ]
  },
  {
   "cell_type": "code",
   "execution_count": 7,
   "metadata": {
    "id": "2NgjWFqx0q05"
   },
   "outputs": [
    {
     "name": "stdout",
     "output_type": "stream",
     "text": [
      "<class 'pandas.core.frame.DataFrame'>\n",
      "RangeIndex: 500 entries, 0 to 499\n",
      "Data columns (total 8 columns):\n",
      " #   Column      Non-Null Count  Dtype \n",
      "---  ------      --------------  ----- \n",
      " 0   user_id     500 non-null    int64 \n",
      " 1   first_name  500 non-null    object\n",
      " 2   last_name   500 non-null    object\n",
      " 3   age         500 non-null    int64 \n",
      " 4   city        500 non-null    object\n",
      " 5   reg_date    500 non-null    object\n",
      " 6   plan        500 non-null    object\n",
      " 7   churn_date  34 non-null     object\n",
      "dtypes: int64(2), object(6)\n",
      "memory usage: 31.4+ KB\n"
     ]
    }
   ],
   "source": [
    "# Imprime la información general/resumida sobre el DataFrame de usuarios\n",
    "df_megaline_users.info()"
   ]
  },
  {
   "cell_type": "code",
   "execution_count": 8,
   "metadata": {
    "id": "1IN1L9uh0q05"
   },
   "outputs": [
    {
     "data": {
      "text/html": [
       "<div>\n",
       "<style scoped>\n",
       "    .dataframe tbody tr th:only-of-type {\n",
       "        vertical-align: middle;\n",
       "    }\n",
       "\n",
       "    .dataframe tbody tr th {\n",
       "        vertical-align: top;\n",
       "    }\n",
       "\n",
       "    .dataframe thead th {\n",
       "        text-align: right;\n",
       "    }\n",
       "</style>\n",
       "<table border=\"1\" class=\"dataframe\">\n",
       "  <thead>\n",
       "    <tr style=\"text-align: right;\">\n",
       "      <th></th>\n",
       "      <th>user_id</th>\n",
       "      <th>first_name</th>\n",
       "      <th>last_name</th>\n",
       "      <th>age</th>\n",
       "      <th>city</th>\n",
       "      <th>reg_date</th>\n",
       "      <th>plan</th>\n",
       "      <th>churn_date</th>\n",
       "    </tr>\n",
       "  </thead>\n",
       "  <tbody>\n",
       "    <tr>\n",
       "      <th>0</th>\n",
       "      <td>1000</td>\n",
       "      <td>Anamaria</td>\n",
       "      <td>Bauer</td>\n",
       "      <td>45</td>\n",
       "      <td>Atlanta-Sandy Springs-Roswell, GA MSA</td>\n",
       "      <td>2018-12-24</td>\n",
       "      <td>ultimate</td>\n",
       "      <td>NaN</td>\n",
       "    </tr>\n",
       "    <tr>\n",
       "      <th>1</th>\n",
       "      <td>1001</td>\n",
       "      <td>Mickey</td>\n",
       "      <td>Wilkerson</td>\n",
       "      <td>28</td>\n",
       "      <td>Seattle-Tacoma-Bellevue, WA MSA</td>\n",
       "      <td>2018-08-13</td>\n",
       "      <td>surf</td>\n",
       "      <td>NaN</td>\n",
       "    </tr>\n",
       "    <tr>\n",
       "      <th>2</th>\n",
       "      <td>1002</td>\n",
       "      <td>Carlee</td>\n",
       "      <td>Hoffman</td>\n",
       "      <td>36</td>\n",
       "      <td>Las Vegas-Henderson-Paradise, NV MSA</td>\n",
       "      <td>2018-10-21</td>\n",
       "      <td>surf</td>\n",
       "      <td>NaN</td>\n",
       "    </tr>\n",
       "    <tr>\n",
       "      <th>3</th>\n",
       "      <td>1003</td>\n",
       "      <td>Reynaldo</td>\n",
       "      <td>Jenkins</td>\n",
       "      <td>52</td>\n",
       "      <td>Tulsa, OK MSA</td>\n",
       "      <td>2018-01-28</td>\n",
       "      <td>surf</td>\n",
       "      <td>NaN</td>\n",
       "    </tr>\n",
       "    <tr>\n",
       "      <th>4</th>\n",
       "      <td>1004</td>\n",
       "      <td>Leonila</td>\n",
       "      <td>Thompson</td>\n",
       "      <td>40</td>\n",
       "      <td>Seattle-Tacoma-Bellevue, WA MSA</td>\n",
       "      <td>2018-05-23</td>\n",
       "      <td>surf</td>\n",
       "      <td>NaN</td>\n",
       "    </tr>\n",
       "    <tr>\n",
       "      <th>5</th>\n",
       "      <td>1005</td>\n",
       "      <td>Livia</td>\n",
       "      <td>Shields</td>\n",
       "      <td>31</td>\n",
       "      <td>Dallas-Fort Worth-Arlington, TX MSA</td>\n",
       "      <td>2018-11-29</td>\n",
       "      <td>surf</td>\n",
       "      <td>NaN</td>\n",
       "    </tr>\n",
       "    <tr>\n",
       "      <th>6</th>\n",
       "      <td>1006</td>\n",
       "      <td>Jesusa</td>\n",
       "      <td>Bradford</td>\n",
       "      <td>73</td>\n",
       "      <td>San Francisco-Oakland-Berkeley, CA MSA</td>\n",
       "      <td>2018-11-27</td>\n",
       "      <td>ultimate</td>\n",
       "      <td>2018-12-18</td>\n",
       "    </tr>\n",
       "    <tr>\n",
       "      <th>7</th>\n",
       "      <td>1007</td>\n",
       "      <td>Eusebio</td>\n",
       "      <td>Welch</td>\n",
       "      <td>42</td>\n",
       "      <td>Grand Rapids-Kentwood, MI MSA</td>\n",
       "      <td>2018-07-11</td>\n",
       "      <td>surf</td>\n",
       "      <td>NaN</td>\n",
       "    </tr>\n",
       "    <tr>\n",
       "      <th>8</th>\n",
       "      <td>1008</td>\n",
       "      <td>Emely</td>\n",
       "      <td>Hoffman</td>\n",
       "      <td>53</td>\n",
       "      <td>Orlando-Kissimmee-Sanford, FL MSA</td>\n",
       "      <td>2018-08-03</td>\n",
       "      <td>ultimate</td>\n",
       "      <td>NaN</td>\n",
       "    </tr>\n",
       "    <tr>\n",
       "      <th>9</th>\n",
       "      <td>1009</td>\n",
       "      <td>Gerry</td>\n",
       "      <td>Little</td>\n",
       "      <td>19</td>\n",
       "      <td>San Jose-Sunnyvale-Santa Clara, CA MSA</td>\n",
       "      <td>2018-04-22</td>\n",
       "      <td>surf</td>\n",
       "      <td>NaN</td>\n",
       "    </tr>\n",
       "  </tbody>\n",
       "</table>\n",
       "</div>"
      ],
      "text/plain": [
       "   user_id first_name  last_name  age                                    city  \\\n",
       "0     1000   Anamaria      Bauer   45   Atlanta-Sandy Springs-Roswell, GA MSA   \n",
       "1     1001     Mickey  Wilkerson   28         Seattle-Tacoma-Bellevue, WA MSA   \n",
       "2     1002     Carlee    Hoffman   36    Las Vegas-Henderson-Paradise, NV MSA   \n",
       "3     1003   Reynaldo    Jenkins   52                           Tulsa, OK MSA   \n",
       "4     1004    Leonila   Thompson   40         Seattle-Tacoma-Bellevue, WA MSA   \n",
       "5     1005      Livia    Shields   31     Dallas-Fort Worth-Arlington, TX MSA   \n",
       "6     1006     Jesusa   Bradford   73  San Francisco-Oakland-Berkeley, CA MSA   \n",
       "7     1007    Eusebio      Welch   42           Grand Rapids-Kentwood, MI MSA   \n",
       "8     1008      Emely    Hoffman   53       Orlando-Kissimmee-Sanford, FL MSA   \n",
       "9     1009      Gerry     Little   19  San Jose-Sunnyvale-Santa Clara, CA MSA   \n",
       "\n",
       "     reg_date      plan  churn_date  \n",
       "0  2018-12-24  ultimate         NaN  \n",
       "1  2018-08-13      surf         NaN  \n",
       "2  2018-10-21      surf         NaN  \n",
       "3  2018-01-28      surf         NaN  \n",
       "4  2018-05-23      surf         NaN  \n",
       "5  2018-11-29      surf         NaN  \n",
       "6  2018-11-27  ultimate  2018-12-18  \n",
       "7  2018-07-11      surf         NaN  \n",
       "8  2018-08-03  ultimate         NaN  \n",
       "9  2018-04-22      surf         NaN  "
      ]
     },
     "execution_count": 8,
     "metadata": {},
     "output_type": "execute_result"
    }
   ],
   "source": [
    "# Imprime una muestra de datos para usuarios\n",
    "df_megaline_users.head(10)"
   ]
  },
  {
   "cell_type": "markdown",
   "metadata": {},
   "source": [
    "Por lo que se puede observar en el DataFame la mayoria de los datos ausentes estna en la columna \"churn_date\" la cual nos muestra la fecha en la que el usuario dejó de usar el servicio. Algo importante a considerad si el valor es ausente existe la posibilidad de que la tarifa se estaba usando cuando fue extraída esta base de datos."
   ]
  },
  {
   "cell_type": "markdown",
   "metadata": {
    "id": "BX5FQh_I0q06"
   },
   "source": [
    "### Corregir los datos"
   ]
  },
  {
   "cell_type": "code",
   "execution_count": 9,
   "metadata": {},
   "outputs": [
    {
     "name": "stdout",
     "output_type": "stream",
     "text": [
      "   user_id first_name  last_name  age                                   city  \\\n",
      "0     1000   Anamaria      Bauer   45  Atlanta-Sandy Springs-Roswell, GA MSA   \n",
      "1     1001     Mickey  Wilkerson   28        Seattle-Tacoma-Bellevue, WA MSA   \n",
      "2     1002     Carlee    Hoffman   36   Las Vegas-Henderson-Paradise, NV MSA   \n",
      "3     1003   Reynaldo    Jenkins   52                          Tulsa, OK MSA   \n",
      "4     1004    Leonila   Thompson   40        Seattle-Tacoma-Bellevue, WA MSA   \n",
      "\n",
      "     reg_date      plan churn_date  \n",
      "0  2018-12-24  ultimate      acive  \n",
      "1  2018-08-13      surf      acive  \n",
      "2  2018-10-21      surf      acive  \n",
      "3  2018-01-28      surf      acive  \n",
      "4  2018-05-23      surf      acive  \n"
     ]
    }
   ],
   "source": [
    "df_megaline_users[\"churn_date\"].fillna(\"acive\", inplace=True)\n",
    "print(df_megaline_users.head())"
   ]
  },
  {
   "cell_type": "code",
   "execution_count": 47,
   "metadata": {},
   "outputs": [
    {
     "name": "stdout",
     "output_type": "stream",
     "text": [
      "datetime64[ns]\n"
     ]
    }
   ],
   "source": [
    "df_megaline_users[\"reg_date\"] = pd.to_datetime(df_megaline_users[\"reg_date\"], format=\"%Y-%m-%d\")\n",
    "print(df_megaline_users[\"reg_date\"].dtype)"
   ]
  },
  {
   "cell_type": "markdown",
   "metadata": {},
   "source": [
    "Cambie las filas con valores asentes por \"active\" para tener en cuenta que el plan de prepago de los usuarios esta activo, no elimine los datos debido a que estos representan una parte importante de todos los datos. Además se realizo un cambio en la columna \"reg_date\" para que esta sea un datatime."
   ]
  },
  {
   "cell_type": "markdown",
   "metadata": {
    "id": "ycwuARJp0q07"
   },
   "source": [
    "### Enriquecer los datos"
   ]
  },
  {
   "cell_type": "code",
   "execution_count": 15,
   "metadata": {
    "id": "iq0AaBS90q08"
   },
   "outputs": [
    {
     "data": {
      "text/plain": [
       "0"
      ]
     },
     "execution_count": 15,
     "metadata": {},
     "output_type": "execute_result"
    }
   ],
   "source": [
    "df_megaline_users.duplicated().sum()"
   ]
  },
  {
   "cell_type": "markdown",
   "metadata": {},
   "source": [
    "Comprobé la existencia de duplicados, que en este caso son inexistentes. "
   ]
  },
  {
   "cell_type": "markdown",
   "metadata": {
    "id": "o7MeKCid0q08"
   },
   "source": [
    "## Llamadas"
   ]
  },
  {
   "cell_type": "code",
   "execution_count": 20,
   "metadata": {
    "id": "6dDlnoDm0q08"
   },
   "outputs": [
    {
     "name": "stdout",
     "output_type": "stream",
     "text": [
      "<class 'pandas.core.frame.DataFrame'>\n",
      "RangeIndex: 137735 entries, 0 to 137734\n",
      "Data columns (total 4 columns):\n",
      " #   Column     Non-Null Count   Dtype  \n",
      "---  ------     --------------   -----  \n",
      " 0   id         137735 non-null  object \n",
      " 1   user_id    137735 non-null  int64  \n",
      " 2   call_date  137735 non-null  object \n",
      " 3   duration   137735 non-null  float64\n",
      "dtypes: float64(1), int64(1), object(2)\n",
      "memory usage: 4.2+ MB\n"
     ]
    }
   ],
   "source": [
    "# Imprime la información general/resumida sobre el DataFrame de las llamadas\n",
    "df_megaline_calls.info()"
   ]
  },
  {
   "cell_type": "code",
   "execution_count": 21,
   "metadata": {
    "id": "kuh1vlNB0q09"
   },
   "outputs": [
    {
     "data": {
      "text/html": [
       "<div>\n",
       "<style scoped>\n",
       "    .dataframe tbody tr th:only-of-type {\n",
       "        vertical-align: middle;\n",
       "    }\n",
       "\n",
       "    .dataframe tbody tr th {\n",
       "        vertical-align: top;\n",
       "    }\n",
       "\n",
       "    .dataframe thead th {\n",
       "        text-align: right;\n",
       "    }\n",
       "</style>\n",
       "<table border=\"1\" class=\"dataframe\">\n",
       "  <thead>\n",
       "    <tr style=\"text-align: right;\">\n",
       "      <th></th>\n",
       "      <th>id</th>\n",
       "      <th>user_id</th>\n",
       "      <th>call_date</th>\n",
       "      <th>duration</th>\n",
       "    </tr>\n",
       "  </thead>\n",
       "  <tbody>\n",
       "    <tr>\n",
       "      <th>0</th>\n",
       "      <td>1000_93</td>\n",
       "      <td>1000</td>\n",
       "      <td>2018-12-27</td>\n",
       "      <td>9.0</td>\n",
       "    </tr>\n",
       "    <tr>\n",
       "      <th>1</th>\n",
       "      <td>1000_145</td>\n",
       "      <td>1000</td>\n",
       "      <td>2018-12-27</td>\n",
       "      <td>14.0</td>\n",
       "    </tr>\n",
       "    <tr>\n",
       "      <th>2</th>\n",
       "      <td>1000_247</td>\n",
       "      <td>1000</td>\n",
       "      <td>2018-12-27</td>\n",
       "      <td>15.0</td>\n",
       "    </tr>\n",
       "    <tr>\n",
       "      <th>3</th>\n",
       "      <td>1000_309</td>\n",
       "      <td>1000</td>\n",
       "      <td>2018-12-28</td>\n",
       "      <td>6.0</td>\n",
       "    </tr>\n",
       "    <tr>\n",
       "      <th>4</th>\n",
       "      <td>1000_380</td>\n",
       "      <td>1000</td>\n",
       "      <td>2018-12-30</td>\n",
       "      <td>5.0</td>\n",
       "    </tr>\n",
       "    <tr>\n",
       "      <th>5</th>\n",
       "      <td>1000_388</td>\n",
       "      <td>1000</td>\n",
       "      <td>2018-12-31</td>\n",
       "      <td>3.0</td>\n",
       "    </tr>\n",
       "    <tr>\n",
       "      <th>6</th>\n",
       "      <td>1000_510</td>\n",
       "      <td>1000</td>\n",
       "      <td>2018-12-27</td>\n",
       "      <td>6.0</td>\n",
       "    </tr>\n",
       "    <tr>\n",
       "      <th>7</th>\n",
       "      <td>1000_521</td>\n",
       "      <td>1000</td>\n",
       "      <td>2018-12-28</td>\n",
       "      <td>15.0</td>\n",
       "    </tr>\n",
       "    <tr>\n",
       "      <th>8</th>\n",
       "      <td>1000_530</td>\n",
       "      <td>1000</td>\n",
       "      <td>2018-12-28</td>\n",
       "      <td>6.0</td>\n",
       "    </tr>\n",
       "    <tr>\n",
       "      <th>9</th>\n",
       "      <td>1000_544</td>\n",
       "      <td>1000</td>\n",
       "      <td>2018-12-26</td>\n",
       "      <td>5.0</td>\n",
       "    </tr>\n",
       "  </tbody>\n",
       "</table>\n",
       "</div>"
      ],
      "text/plain": [
       "         id  user_id   call_date  duration\n",
       "0   1000_93     1000  2018-12-27       9.0\n",
       "1  1000_145     1000  2018-12-27      14.0\n",
       "2  1000_247     1000  2018-12-27      15.0\n",
       "3  1000_309     1000  2018-12-28       6.0\n",
       "4  1000_380     1000  2018-12-30       5.0\n",
       "5  1000_388     1000  2018-12-31       3.0\n",
       "6  1000_510     1000  2018-12-27       6.0\n",
       "7  1000_521     1000  2018-12-28      15.0\n",
       "8  1000_530     1000  2018-12-28       6.0\n",
       "9  1000_544     1000  2018-12-26       5.0"
      ]
     },
     "execution_count": 21,
     "metadata": {},
     "output_type": "execute_result"
    }
   ],
   "source": [
    "# Imprime una muestra de datos para las llamadas\n",
    "df_megaline_calls.head(10)"
   ]
  },
  {
   "cell_type": "markdown",
   "metadata": {},
   "source": [
    "Se puede observar qu el DataFrame cuenta con 137,735 filas que nos muestra el ID de las llamadas realizadas por cada usuarios, la duración de cada una de las llamadas y la fecha en la que se relizo cada llamada. Por lo que se puede observar no se encuentran datos ausentes."
   ]
  },
  {
   "cell_type": "markdown",
   "metadata": {
    "id": "S7hzxmbX0q0-"
   },
   "source": [
    "### Corregir los datos"
   ]
  },
  {
   "cell_type": "code",
   "execution_count": 18,
   "metadata": {},
   "outputs": [
    {
     "name": "stdout",
     "output_type": "stream",
     "text": [
      "0          9.0\n",
      "1         14.0\n",
      "2         15.0\n",
      "3          6.0\n",
      "4          5.0\n",
      "          ... \n",
      "137730     9.0\n",
      "137731    11.0\n",
      "137732     9.0\n",
      "137733     1.0\n",
      "137734    14.0\n",
      "Name: duration, Length: 137735, dtype: float64\n"
     ]
    }
   ],
   "source": [
    "df_megaline_calls[\"duration\"] = np.ceil(df_megaline_calls[\"duration\"])\n",
    "print(df_megaline_calls[\"duration\"])"
   ]
  },
  {
   "cell_type": "markdown",
   "metadata": {},
   "source": [
    "Cambie la columna \"duration\" de para redondear los minutos y segundos a solo minutos, ya que Megaline redondea los segundos a minutos."
   ]
  },
  {
   "cell_type": "markdown",
   "metadata": {
    "id": "KrMgTrlG0q0_"
   },
   "source": [
    "### Enriquecer los datos"
   ]
  },
  {
   "cell_type": "code",
   "execution_count": 48,
   "metadata": {},
   "outputs": [
    {
     "name": "stdout",
     "output_type": "stream",
     "text": [
      "datetime64[ns]\n"
     ]
    }
   ],
   "source": [
    "df_megaline_calls[\"call_date\"] = pd.to_datetime(df_megaline_calls[\"call_date\"], format=\"%Y-%m-%d\")\n",
    "print(df_megaline_calls[\"call_date\"].dtype)"
   ]
  },
  {
   "cell_type": "markdown",
   "metadata": {},
   "source": [
    "Realize un cambio en la columna \"call_date\" para transformar los datos a datetime."
   ]
  },
  {
   "cell_type": "markdown",
   "metadata": {
    "id": "mOUZSi180q0_"
   },
   "source": [
    "## Mensajes"
   ]
  },
  {
   "cell_type": "code",
   "execution_count": 25,
   "metadata": {
    "id": "R-bYJpdV0q1A"
   },
   "outputs": [
    {
     "name": "stdout",
     "output_type": "stream",
     "text": [
      "<class 'pandas.core.frame.DataFrame'>\n",
      "RangeIndex: 76051 entries, 0 to 76050\n",
      "Data columns (total 3 columns):\n",
      " #   Column        Non-Null Count  Dtype \n",
      "---  ------        --------------  ----- \n",
      " 0   id            76051 non-null  object\n",
      " 1   user_id       76051 non-null  int64 \n",
      " 2   message_date  76051 non-null  object\n",
      "dtypes: int64(1), object(2)\n",
      "memory usage: 1.7+ MB\n"
     ]
    }
   ],
   "source": [
    "# Imprime la información general/resumida sobre el DataFrame de los mensajes\n",
    "df_megaline_messages.info()"
   ]
  },
  {
   "cell_type": "code",
   "execution_count": 26,
   "metadata": {
    "id": "mCEl2iGE0q1A"
   },
   "outputs": [
    {
     "data": {
      "text/html": [
       "<div>\n",
       "<style scoped>\n",
       "    .dataframe tbody tr th:only-of-type {\n",
       "        vertical-align: middle;\n",
       "    }\n",
       "\n",
       "    .dataframe tbody tr th {\n",
       "        vertical-align: top;\n",
       "    }\n",
       "\n",
       "    .dataframe thead th {\n",
       "        text-align: right;\n",
       "    }\n",
       "</style>\n",
       "<table border=\"1\" class=\"dataframe\">\n",
       "  <thead>\n",
       "    <tr style=\"text-align: right;\">\n",
       "      <th></th>\n",
       "      <th>id</th>\n",
       "      <th>user_id</th>\n",
       "      <th>message_date</th>\n",
       "    </tr>\n",
       "  </thead>\n",
       "  <tbody>\n",
       "    <tr>\n",
       "      <th>0</th>\n",
       "      <td>1000_125</td>\n",
       "      <td>1000</td>\n",
       "      <td>2018-12-27</td>\n",
       "    </tr>\n",
       "    <tr>\n",
       "      <th>1</th>\n",
       "      <td>1000_160</td>\n",
       "      <td>1000</td>\n",
       "      <td>2018-12-31</td>\n",
       "    </tr>\n",
       "    <tr>\n",
       "      <th>2</th>\n",
       "      <td>1000_223</td>\n",
       "      <td>1000</td>\n",
       "      <td>2018-12-31</td>\n",
       "    </tr>\n",
       "    <tr>\n",
       "      <th>3</th>\n",
       "      <td>1000_251</td>\n",
       "      <td>1000</td>\n",
       "      <td>2018-12-27</td>\n",
       "    </tr>\n",
       "    <tr>\n",
       "      <th>4</th>\n",
       "      <td>1000_255</td>\n",
       "      <td>1000</td>\n",
       "      <td>2018-12-26</td>\n",
       "    </tr>\n",
       "    <tr>\n",
       "      <th>5</th>\n",
       "      <td>1000_346</td>\n",
       "      <td>1000</td>\n",
       "      <td>2018-12-29</td>\n",
       "    </tr>\n",
       "    <tr>\n",
       "      <th>6</th>\n",
       "      <td>1000_386</td>\n",
       "      <td>1000</td>\n",
       "      <td>2018-12-30</td>\n",
       "    </tr>\n",
       "    <tr>\n",
       "      <th>7</th>\n",
       "      <td>1000_413</td>\n",
       "      <td>1000</td>\n",
       "      <td>2018-12-31</td>\n",
       "    </tr>\n",
       "    <tr>\n",
       "      <th>8</th>\n",
       "      <td>1000_502</td>\n",
       "      <td>1000</td>\n",
       "      <td>2018-12-27</td>\n",
       "    </tr>\n",
       "    <tr>\n",
       "      <th>9</th>\n",
       "      <td>1000_525</td>\n",
       "      <td>1000</td>\n",
       "      <td>2018-12-28</td>\n",
       "    </tr>\n",
       "  </tbody>\n",
       "</table>\n",
       "</div>"
      ],
      "text/plain": [
       "         id  user_id message_date\n",
       "0  1000_125     1000   2018-12-27\n",
       "1  1000_160     1000   2018-12-31\n",
       "2  1000_223     1000   2018-12-31\n",
       "3  1000_251     1000   2018-12-27\n",
       "4  1000_255     1000   2018-12-26\n",
       "5  1000_346     1000   2018-12-29\n",
       "6  1000_386     1000   2018-12-30\n",
       "7  1000_413     1000   2018-12-31\n",
       "8  1000_502     1000   2018-12-27\n",
       "9  1000_525     1000   2018-12-28"
      ]
     },
     "execution_count": 26,
     "metadata": {},
     "output_type": "execute_result"
    }
   ],
   "source": [
    "# Imprime una muestra de datos para los mensajes\n",
    "df_megaline_messages.head(10)"
   ]
  },
  {
   "cell_type": "markdown",
   "metadata": {},
   "source": [
    "Se puede observar que el DataFrame cuenta con 3 columnas que nos muestran el ID de cada mensaje, así como el ID de cada uno de los usuarios y la fecha en la que se envió el mensaje. Cuenta con 76,051 filas. "
   ]
  },
  {
   "cell_type": "markdown",
   "metadata": {
    "id": "Sprfak900q1B"
   },
   "source": [
    "### Corregir los datos"
   ]
  },
  {
   "cell_type": "markdown",
   "metadata": {
    "id": "HvLid7iD0q1B"
   },
   "source": [
    "### Enriquecer los datos"
   ]
  },
  {
   "cell_type": "code",
   "execution_count": 49,
   "metadata": {
    "id": "zYEXZac10q1C"
   },
   "outputs": [
    {
     "name": "stdout",
     "output_type": "stream",
     "text": [
      "datetime64[ns]\n"
     ]
    }
   ],
   "source": [
    "df_megaline_messages[\"message_date\"] = pd.to_datetime(df_megaline_messages[\"message_date\"], format=\"%Y-%m-%d\")\n",
    "print(df_megaline_messages[\"message_date\"].dtype)"
   ]
  },
  {
   "cell_type": "markdown",
   "metadata": {},
   "source": [
    "Realice un cambio en la columna \"message_date\" para trasformar los datos a datatime."
   ]
  },
  {
   "cell_type": "markdown",
   "metadata": {
    "id": "bStkaxn40q1C"
   },
   "source": [
    "## Internet"
   ]
  },
  {
   "cell_type": "code",
   "execution_count": 30,
   "metadata": {
    "id": "e-Uz5qyn0q1C"
   },
   "outputs": [
    {
     "name": "stdout",
     "output_type": "stream",
     "text": [
      "<class 'pandas.core.frame.DataFrame'>\n",
      "RangeIndex: 104825 entries, 0 to 104824\n",
      "Data columns (total 4 columns):\n",
      " #   Column        Non-Null Count   Dtype  \n",
      "---  ------        --------------   -----  \n",
      " 0   id            104825 non-null  object \n",
      " 1   user_id       104825 non-null  int64  \n",
      " 2   session_date  104825 non-null  object \n",
      " 3   mb_used       104825 non-null  float64\n",
      "dtypes: float64(1), int64(1), object(2)\n",
      "memory usage: 3.2+ MB\n"
     ]
    }
   ],
   "source": [
    "# Imprime la información general/resumida sobre el DataFrame de internet\n",
    "df_megaline_internet.info()"
   ]
  },
  {
   "cell_type": "code",
   "execution_count": 31,
   "metadata": {
    "id": "9r3x_XLw0q1C"
   },
   "outputs": [
    {
     "data": {
      "text/html": [
       "<div>\n",
       "<style scoped>\n",
       "    .dataframe tbody tr th:only-of-type {\n",
       "        vertical-align: middle;\n",
       "    }\n",
       "\n",
       "    .dataframe tbody tr th {\n",
       "        vertical-align: top;\n",
       "    }\n",
       "\n",
       "    .dataframe thead th {\n",
       "        text-align: right;\n",
       "    }\n",
       "</style>\n",
       "<table border=\"1\" class=\"dataframe\">\n",
       "  <thead>\n",
       "    <tr style=\"text-align: right;\">\n",
       "      <th></th>\n",
       "      <th>id</th>\n",
       "      <th>user_id</th>\n",
       "      <th>session_date</th>\n",
       "      <th>mb_used</th>\n",
       "    </tr>\n",
       "  </thead>\n",
       "  <tbody>\n",
       "    <tr>\n",
       "      <th>0</th>\n",
       "      <td>1000_13</td>\n",
       "      <td>1000</td>\n",
       "      <td>2018-12-29</td>\n",
       "      <td>89.86</td>\n",
       "    </tr>\n",
       "    <tr>\n",
       "      <th>1</th>\n",
       "      <td>1000_204</td>\n",
       "      <td>1000</td>\n",
       "      <td>2018-12-31</td>\n",
       "      <td>0.00</td>\n",
       "    </tr>\n",
       "    <tr>\n",
       "      <th>2</th>\n",
       "      <td>1000_379</td>\n",
       "      <td>1000</td>\n",
       "      <td>2018-12-28</td>\n",
       "      <td>660.40</td>\n",
       "    </tr>\n",
       "    <tr>\n",
       "      <th>3</th>\n",
       "      <td>1000_413</td>\n",
       "      <td>1000</td>\n",
       "      <td>2018-12-26</td>\n",
       "      <td>270.99</td>\n",
       "    </tr>\n",
       "    <tr>\n",
       "      <th>4</th>\n",
       "      <td>1000_442</td>\n",
       "      <td>1000</td>\n",
       "      <td>2018-12-27</td>\n",
       "      <td>880.22</td>\n",
       "    </tr>\n",
       "    <tr>\n",
       "      <th>5</th>\n",
       "      <td>1001_0</td>\n",
       "      <td>1001</td>\n",
       "      <td>2018-08-24</td>\n",
       "      <td>284.68</td>\n",
       "    </tr>\n",
       "    <tr>\n",
       "      <th>6</th>\n",
       "      <td>1001_3</td>\n",
       "      <td>1001</td>\n",
       "      <td>2018-12-09</td>\n",
       "      <td>656.04</td>\n",
       "    </tr>\n",
       "    <tr>\n",
       "      <th>7</th>\n",
       "      <td>1001_4</td>\n",
       "      <td>1001</td>\n",
       "      <td>2018-11-04</td>\n",
       "      <td>16.97</td>\n",
       "    </tr>\n",
       "    <tr>\n",
       "      <th>8</th>\n",
       "      <td>1001_10</td>\n",
       "      <td>1001</td>\n",
       "      <td>2018-11-27</td>\n",
       "      <td>135.18</td>\n",
       "    </tr>\n",
       "    <tr>\n",
       "      <th>9</th>\n",
       "      <td>1001_15</td>\n",
       "      <td>1001</td>\n",
       "      <td>2018-12-13</td>\n",
       "      <td>761.92</td>\n",
       "    </tr>\n",
       "    <tr>\n",
       "      <th>10</th>\n",
       "      <td>1001_16</td>\n",
       "      <td>1001</td>\n",
       "      <td>2018-10-28</td>\n",
       "      <td>501.53</td>\n",
       "    </tr>\n",
       "    <tr>\n",
       "      <th>11</th>\n",
       "      <td>1001_17</td>\n",
       "      <td>1001</td>\n",
       "      <td>2018-09-05</td>\n",
       "      <td>727.29</td>\n",
       "    </tr>\n",
       "    <tr>\n",
       "      <th>12</th>\n",
       "      <td>1001_24</td>\n",
       "      <td>1001</td>\n",
       "      <td>2018-09-05</td>\n",
       "      <td>622.03</td>\n",
       "    </tr>\n",
       "    <tr>\n",
       "      <th>13</th>\n",
       "      <td>1001_25</td>\n",
       "      <td>1001</td>\n",
       "      <td>2018-10-14</td>\n",
       "      <td>310.43</td>\n",
       "    </tr>\n",
       "    <tr>\n",
       "      <th>14</th>\n",
       "      <td>1001_26</td>\n",
       "      <td>1001</td>\n",
       "      <td>2018-09-17</td>\n",
       "      <td>0.00</td>\n",
       "    </tr>\n",
       "  </tbody>\n",
       "</table>\n",
       "</div>"
      ],
      "text/plain": [
       "          id  user_id session_date  mb_used\n",
       "0    1000_13     1000   2018-12-29    89.86\n",
       "1   1000_204     1000   2018-12-31     0.00\n",
       "2   1000_379     1000   2018-12-28   660.40\n",
       "3   1000_413     1000   2018-12-26   270.99\n",
       "4   1000_442     1000   2018-12-27   880.22\n",
       "5     1001_0     1001   2018-08-24   284.68\n",
       "6     1001_3     1001   2018-12-09   656.04\n",
       "7     1001_4     1001   2018-11-04    16.97\n",
       "8    1001_10     1001   2018-11-27   135.18\n",
       "9    1001_15     1001   2018-12-13   761.92\n",
       "10   1001_16     1001   2018-10-28   501.53\n",
       "11   1001_17     1001   2018-09-05   727.29\n",
       "12   1001_24     1001   2018-09-05   622.03\n",
       "13   1001_25     1001   2018-10-14   310.43\n",
       "14   1001_26     1001   2018-09-17     0.00"
      ]
     },
     "execution_count": 31,
     "metadata": {},
     "output_type": "execute_result"
    }
   ],
   "source": [
    "# Imprime una muestra de datos para el tráfico de internet\n",
    "df_megaline_internet.head(15)"
   ]
  },
  {
   "cell_type": "markdown",
   "metadata": {},
   "source": [
    "Como se puede observar el DataFrame no cuenta con valores ausentes, en su contenido podemos encontrar la fecha de la sesión web y cuantos megabytes fueron consumidos por cada ocasión que fue utilizado, además de generar un ID para cada una de las sesiones."
   ]
  },
  {
   "cell_type": "markdown",
   "metadata": {
    "id": "yA0tkPFg0q1D"
   },
   "source": [
    "### Corregir los datos"
   ]
  },
  {
   "cell_type": "code",
   "execution_count": 34,
   "metadata": {
    "id": "zVeanzdd0q1E"
   },
   "outputs": [
    {
     "name": "stdout",
     "output_type": "stream",
     "text": [
      "         id  user_id session_date  gb_used\n",
      "0   1000_13     1000   2018-12-29      1.0\n",
      "1  1000_204     1000   2018-12-31      0.0\n",
      "2  1000_379     1000   2018-12-28      1.0\n",
      "3  1000_413     1000   2018-12-26      1.0\n",
      "4  1000_442     1000   2018-12-27      1.0\n"
     ]
    }
   ],
   "source": [
    "df_megaline_internet[\"mb_used\"] = (df_megaline_internet[\"mb_used\"] / 1024).apply(np.ceil)\n",
    "df_megaline_internet.rename(columns={\"mb_used\": \"gb_used\"}, inplace=True)\n",
    "print(df_megaline_internet.head())"
   ]
  },
  {
   "cell_type": "markdown",
   "metadata": {},
   "source": [
    "Se realizó la conversión de megabytes a gigabytes, además de redondear los gigabytes, al igual se hizo un cambio en el nombre de la columna ya que ahora su contenido cambio a gigabytes, esto con la finalidad de evitar confusión en cuanto al contendido de los datos de la columna. "
   ]
  },
  {
   "cell_type": "markdown",
   "metadata": {
    "id": "e8_mLF4a0q1E"
   },
   "source": [
    "### Enriquecer los datos"
   ]
  },
  {
   "cell_type": "code",
   "execution_count": 50,
   "metadata": {
    "id": "ESiYPIEK0q1E"
   },
   "outputs": [
    {
     "name": "stdout",
     "output_type": "stream",
     "text": [
      "datetime64[ns]\n"
     ]
    }
   ],
   "source": [
    "df_megaline_internet[\"session_date\"] = pd.to_datetime(df_megaline_internet[\"session_date\"], format=\"%Y-%m-%d\")\n",
    "print(df_megaline_internet[\"session_date\"].dtype)"
   ]
  },
  {
   "cell_type": "markdown",
   "metadata": {},
   "source": [
    "Realice una modificación en la columna \"session_date\" para que esta fuera de tipo datatime64[ns]."
   ]
  },
  {
   "cell_type": "markdown",
   "metadata": {
    "id": "3UA2cqIW0q1E"
   },
   "source": [
    "## Estudiar las condiciones de las tarifas"
   ]
  },
  {
   "cell_type": "code",
   "execution_count": 36,
   "metadata": {
    "id": "i409op8p0q1F"
   },
   "outputs": [
    {
     "data": {
      "text/html": [
       "<div>\n",
       "<style scoped>\n",
       "    .dataframe tbody tr th:only-of-type {\n",
       "        vertical-align: middle;\n",
       "    }\n",
       "\n",
       "    .dataframe tbody tr th {\n",
       "        vertical-align: top;\n",
       "    }\n",
       "\n",
       "    .dataframe thead th {\n",
       "        text-align: right;\n",
       "    }\n",
       "</style>\n",
       "<table border=\"1\" class=\"dataframe\">\n",
       "  <thead>\n",
       "    <tr style=\"text-align: right;\">\n",
       "      <th></th>\n",
       "      <th>messages_included</th>\n",
       "      <th>mb_per_month_included</th>\n",
       "      <th>minutes_included</th>\n",
       "      <th>usd_monthly_pay</th>\n",
       "      <th>usd_per_gb</th>\n",
       "      <th>usd_per_message</th>\n",
       "      <th>usd_per_minute</th>\n",
       "      <th>plan_name</th>\n",
       "    </tr>\n",
       "  </thead>\n",
       "  <tbody>\n",
       "    <tr>\n",
       "      <th>0</th>\n",
       "      <td>50</td>\n",
       "      <td>15360</td>\n",
       "      <td>500</td>\n",
       "      <td>20</td>\n",
       "      <td>10</td>\n",
       "      <td>0.03</td>\n",
       "      <td>0.03</td>\n",
       "      <td>surf</td>\n",
       "    </tr>\n",
       "    <tr>\n",
       "      <th>1</th>\n",
       "      <td>1000</td>\n",
       "      <td>30720</td>\n",
       "      <td>3000</td>\n",
       "      <td>70</td>\n",
       "      <td>7</td>\n",
       "      <td>0.01</td>\n",
       "      <td>0.01</td>\n",
       "      <td>ultimate</td>\n",
       "    </tr>\n",
       "  </tbody>\n",
       "</table>\n",
       "</div>"
      ],
      "text/plain": [
       "   messages_included  mb_per_month_included  minutes_included  \\\n",
       "0                 50                  15360               500   \n",
       "1               1000                  30720              3000   \n",
       "\n",
       "   usd_monthly_pay  usd_per_gb  usd_per_message  usd_per_minute plan_name  \n",
       "0               20          10             0.03            0.03      surf  \n",
       "1               70           7             0.01            0.01  ultimate  "
      ]
     },
     "execution_count": 36,
     "metadata": {},
     "output_type": "execute_result"
    }
   ],
   "source": [
    "# Imprime las condiciones de la tarifa y asegúrate de que te quedan claras\n",
    "df_megaline_plans"
   ]
  },
  {
   "cell_type": "code",
   "execution_count": 51,
   "metadata": {
    "id": "A332cedB0q1G"
   },
   "outputs": [
    {
     "name": "stdout",
     "output_type": "stream",
     "text": [
      "      user_id year_month  num_calls\n",
      "0        1000    2018-12         16\n",
      "1        1001    2018-08         27\n",
      "2        1001    2018-09         49\n",
      "3        1001    2018-10         65\n",
      "4        1001    2018-11         64\n",
      "...       ...        ...        ...\n",
      "2253     1498    2018-12         39\n",
      "2254     1499    2018-09         41\n",
      "2255     1499    2018-10         53\n",
      "2256     1499    2018-11         45\n",
      "2257     1499    2018-12         65\n",
      "\n",
      "[2258 rows x 3 columns]\n"
     ]
    }
   ],
   "source": [
    "# Calcula el número de llamadas hechas por cada usuario al mes. Guarda el resultado.\n",
    "df_megaline_calls[\"year_month\"] = df_megaline_calls[\"call_date\"].dt.to_period(\"M\")\n",
    "calls_per_month = df_megaline_calls.groupby([\"user_id\", \"year_month\"]).size().reset_index(name=\"num_calls\")\n",
    "print(calls_per_month)"
   ]
  },
  {
   "cell_type": "code",
   "execution_count": 52,
   "metadata": {
    "id": "aw2cmuql0q1G"
   },
   "outputs": [
    {
     "name": "stdout",
     "output_type": "stream",
     "text": [
      "      user_id year_month  total_minutes\n",
      "0        1000    2018-12          124.0\n",
      "1        1001    2018-08          182.0\n",
      "2        1001    2018-09          315.0\n",
      "3        1001    2018-10          393.0\n",
      "4        1001    2018-11          426.0\n",
      "...       ...        ...            ...\n",
      "2253     1498    2018-12          339.0\n",
      "2254     1499    2018-09          346.0\n",
      "2255     1499    2018-10          385.0\n",
      "2256     1499    2018-11          308.0\n",
      "2257     1499    2018-12          496.0\n",
      "\n",
      "[2258 rows x 3 columns]\n"
     ]
    }
   ],
   "source": [
    "# Calcula la cantidad de minutos usados por cada usuario al mes. Guarda el resultado.\n",
    "df_megaline_calls[\"year_month\"] = df_megaline_calls[\"call_date\"].dt.to_period(\"M\")\n",
    "minutes_per_month = df_megaline_calls.groupby([\"user_id\", \"year_month\"])[\"duration\"].sum().reset_index(name=\"total_minutes\")\n",
    "print(minutes_per_month)"
   ]
  },
  {
   "cell_type": "code",
   "execution_count": 53,
   "metadata": {
    "id": "CcQvNHn60q1G"
   },
   "outputs": [
    {
     "name": "stdout",
     "output_type": "stream",
     "text": [
      "      user_id year_month  num_messages\n",
      "0        1000    2018-12            11\n",
      "1        1001    2018-08            30\n",
      "2        1001    2018-09            44\n",
      "3        1001    2018-10            53\n",
      "4        1001    2018-11            36\n",
      "...       ...        ...           ...\n",
      "1801     1496    2018-09            21\n",
      "1802     1496    2018-10            18\n",
      "1803     1496    2018-11            13\n",
      "1804     1496    2018-12            11\n",
      "1805     1497    2018-12            50\n",
      "\n",
      "[1806 rows x 3 columns]\n"
     ]
    }
   ],
   "source": [
    "# Calcula el número de mensajes enviados por cada usuario al mes. Guarda el resultado.\n",
    "df_megaline_messages[\"year_month\"] = df_megaline_messages[\"message_date\"].dt.to_period(\"M\")\n",
    "messages_per_month = df_megaline_messages.groupby([\"user_id\", \"year_month\"]).size().reset_index(name= \"num_messages\")\n",
    "print(messages_per_month)"
   ]
  },
  {
   "cell_type": "code",
   "execution_count": 54,
   "metadata": {
    "id": "H1AqN2eG0q1H"
   },
   "outputs": [
    {
     "name": "stdout",
     "output_type": "stream",
     "text": [
      "      user_id year_month  total_gb\n",
      "0        1000    2018-12       4.0\n",
      "1        1001    2018-08      21.0\n",
      "2        1001    2018-09      40.0\n",
      "3        1001    2018-10      48.0\n",
      "4        1001    2018-11      48.0\n",
      "...       ...        ...       ...\n",
      "2272     1498    2018-12      55.0\n",
      "2273     1499    2018-09      37.0\n",
      "2274     1499    2018-10      50.0\n",
      "2275     1499    2018-11      42.0\n",
      "2276     1499    2018-12      57.0\n",
      "\n",
      "[2277 rows x 3 columns]\n"
     ]
    }
   ],
   "source": [
    "# Calcula el volumen del tráfico de Internet usado por cada usuario al mes. Guarda el resultado.\n",
    "df_megaline_internet[\"year_month\"] = df_megaline_internet[\"session_date\"].dt.to_period(\"M\")\n",
    "mb_per_month = df_megaline_internet.groupby([\"user_id\", \"year_month\"])[\"gb_used\"].sum().reset_index(name=\"total_gb\")\n",
    "print(mb_per_month)"
   ]
  },
  {
   "cell_type": "code",
   "execution_count": 55,
   "metadata": {
    "id": "FW99ykyf0q1H"
   },
   "outputs": [
    {
     "name": "stdout",
     "output_type": "stream",
     "text": [
      "   user_id year_month  num_calls  num_messages  total_minutes  total_gb\n",
      "0     1000    2018-12         16            11          124.0       4.0\n",
      "1     1001    2018-08         27            30          182.0      21.0\n",
      "2     1001    2018-09         49            44          315.0      40.0\n",
      "3     1001    2018-10         65            53          393.0      48.0\n",
      "4     1001    2018-11         64            36          426.0      48.0\n",
      "5     1001    2018-12         56            44          412.0      53.0\n",
      "6     1002    2018-10         11            15           59.0      15.0\n",
      "7     1002    2018-11         55            32          386.0      44.0\n",
      "8     1002    2018-12         47            41          384.0      37.0\n",
      "9     1003    2018-12        149            50         1104.0      51.0\n"
     ]
    }
   ],
   "source": [
    "# Fusiona los datos de llamadas, minutos, mensajes e Internet con base en user_id y month\n",
    "merged_df = pd.merge(calls_per_month, messages_per_month, on=[\"user_id\",\"year_month\"])\n",
    "merged_df = pd.merge(merged_df, minutes_per_month, on=[\"user_id\",\"year_month\"])\n",
    "merged_df = pd.merge(merged_df, mb_per_month, on=[\"user_id\",\"year_month\"])\n",
    "print(merged_df.head(10))"
   ]
  },
  {
   "cell_type": "markdown",
   "metadata": {},
   "source": [
    "Uní en una sola tabla los datos totales de llamadas, el total de minutos utilizados, el total de mensajes enviados y el total de megabytes utilizados por cada usuario y por cada mes.  "
   ]
  },
  {
   "cell_type": "code",
   "execution_count": 56,
   "metadata": {
    "id": "0dNOXHag0q1H"
   },
   "outputs": [
    {
     "name": "stdout",
     "output_type": "stream",
     "text": [
      "   user_id first_name  last_name  age                                   city  \\\n",
      "0     1000   Anamaria      Bauer   45  Atlanta-Sandy Springs-Roswell, GA MSA   \n",
      "1     1001     Mickey  Wilkerson   28        Seattle-Tacoma-Bellevue, WA MSA   \n",
      "2     1001     Mickey  Wilkerson   28        Seattle-Tacoma-Bellevue, WA MSA   \n",
      "3     1001     Mickey  Wilkerson   28        Seattle-Tacoma-Bellevue, WA MSA   \n",
      "4     1001     Mickey  Wilkerson   28        Seattle-Tacoma-Bellevue, WA MSA   \n",
      "\n",
      "    reg_date      plan churn_date year_month  num_calls  num_messages  \\\n",
      "0 2018-12-24  ultimate      acive    2018-12         16            11   \n",
      "1 2018-08-13      surf      acive    2018-08         27            30   \n",
      "2 2018-08-13      surf      acive    2018-09         49            44   \n",
      "3 2018-08-13      surf      acive    2018-10         65            53   \n",
      "4 2018-08-13      surf      acive    2018-11         64            36   \n",
      "\n",
      "   total_minutes  total_gb  plan_cost  \n",
      "0          124.0       4.0         70  \n",
      "1          182.0      21.0         20  \n",
      "2          315.0      40.0         20  \n",
      "3          393.0      48.0         20  \n",
      "4          426.0      48.0         20  \n"
     ]
    }
   ],
   "source": [
    "# Añade la información de la tarifa\n",
    "merged_df_1 = pd.merge(df_megaline_users, merged_df, on=[\"user_id\"])\n",
    "plan_cost = {'surf': 20, 'ultimate': 70}\n",
    "merged_df_1[\"plan_cost\"] = merged_df_1['plan'].map(plan_cost)\n",
    "print(merged_df_1.head())"
   ]
  },
  {
   "cell_type": "markdown",
   "metadata": {},
   "source": [
    "Añadí el costo base que tiene cada plan, como corresponde por cada usuario y dependiendo del plan que el usuario a contratado."
   ]
  },
  {
   "cell_type": "code",
   "execution_count": 57,
   "metadata": {},
   "outputs": [
    {
     "name": "stdout",
     "output_type": "stream",
     "text": [
      "   user_id first_name  last_name  age                                   city  \\\n",
      "0     1000   Anamaria      Bauer   45  Atlanta-Sandy Springs-Roswell, GA MSA   \n",
      "1     1001     Mickey  Wilkerson   28        Seattle-Tacoma-Bellevue, WA MSA   \n",
      "2     1001     Mickey  Wilkerson   28        Seattle-Tacoma-Bellevue, WA MSA   \n",
      "3     1001     Mickey  Wilkerson   28        Seattle-Tacoma-Bellevue, WA MSA   \n",
      "4     1001     Mickey  Wilkerson   28        Seattle-Tacoma-Bellevue, WA MSA   \n",
      "\n",
      "    reg_date      plan churn_date year_month  num_calls  num_messages  \\\n",
      "0 2018-12-24  ultimate      acive    2018-12         16            11   \n",
      "1 2018-08-13      surf      acive    2018-08         27            30   \n",
      "2 2018-08-13      surf      acive    2018-09         49            44   \n",
      "3 2018-08-13      surf      acive    2018-10         65            53   \n",
      "4 2018-08-13      surf      acive    2018-11         64            36   \n",
      "\n",
      "   total_minutes  total_gb  plan_cost  income_per_minute  \n",
      "0          124.0       4.0         70                0.0  \n",
      "1          182.0      21.0         20                0.0  \n",
      "2          315.0      40.0         20                0.0  \n",
      "3          393.0      48.0         20                0.0  \n",
      "4          426.0      48.0         20                0.0  \n"
     ]
    }
   ],
   "source": [
    "def additional_cost_mi(row):\n",
    "    plan = row[\"plan\"]\n",
    "    minutes = row[\"total_minutes\"]\n",
    "    \n",
    "    if plan == \"surf\":\n",
    "        if minutes <= 500:\n",
    "            return 0\n",
    "        else:\n",
    "            return (minutes - 500) * 0.03\n",
    "    elif plan == \"ultimate\":\n",
    "        if minutes <= 3000:\n",
    "            return 0\n",
    "        else:\n",
    "            return (minutes - 3000) * 0.01\n",
    "\n",
    "\n",
    "merged_df_1[\"income_per_minute\"] = merged_df_1.apply(additional_cost_mi, axis=1)\n",
    "print(merged_df_1.head())"
   ]
  },
  {
   "cell_type": "code",
   "execution_count": 58,
   "metadata": {},
   "outputs": [
    {
     "name": "stdout",
     "output_type": "stream",
     "text": [
      "   user_id first_name  last_name  age                                   city  \\\n",
      "0     1000   Anamaria      Bauer   45  Atlanta-Sandy Springs-Roswell, GA MSA   \n",
      "1     1001     Mickey  Wilkerson   28        Seattle-Tacoma-Bellevue, WA MSA   \n",
      "2     1001     Mickey  Wilkerson   28        Seattle-Tacoma-Bellevue, WA MSA   \n",
      "3     1001     Mickey  Wilkerson   28        Seattle-Tacoma-Bellevue, WA MSA   \n",
      "4     1001     Mickey  Wilkerson   28        Seattle-Tacoma-Bellevue, WA MSA   \n",
      "\n",
      "    reg_date      plan churn_date year_month  num_calls  num_messages  \\\n",
      "0 2018-12-24  ultimate      acive    2018-12         16            11   \n",
      "1 2018-08-13      surf      acive    2018-08         27            30   \n",
      "2 2018-08-13      surf      acive    2018-09         49            44   \n",
      "3 2018-08-13      surf      acive    2018-10         65            53   \n",
      "4 2018-08-13      surf      acive    2018-11         64            36   \n",
      "\n",
      "   total_minutes  total_gb  plan_cost  income_per_minute  income_per_message  \n",
      "0          124.0       4.0         70                0.0                0.00  \n",
      "1          182.0      21.0         20                0.0                0.00  \n",
      "2          315.0      40.0         20                0.0                0.00  \n",
      "3          393.0      48.0         20                0.0                0.09  \n",
      "4          426.0      48.0         20                0.0                0.00  \n"
     ]
    }
   ],
   "source": [
    "def additional_cost_me(row):\n",
    "    plan = row[\"plan\"]\n",
    "    minutes = row[\"num_messages\"]\n",
    "    \n",
    "    if plan == \"surf\":\n",
    "        if minutes <= 50:\n",
    "            return 0\n",
    "        else:\n",
    "            return (minutes - 50) * 0.03\n",
    "    elif plan == \"ultimate\":\n",
    "        if minutes <= 1000:\n",
    "            return 0\n",
    "        else:\n",
    "            return (minutes - 1000) * 0.01\n",
    "\n",
    "\n",
    "merged_df_1[\"income_per_message\"] = merged_df_1.apply(additional_cost_me, axis=1)\n",
    "print(merged_df_1.head())"
   ]
  },
  {
   "cell_type": "code",
   "execution_count": 61,
   "metadata": {},
   "outputs": [
    {
     "name": "stdout",
     "output_type": "stream",
     "text": [
      "   user_id first_name  last_name  age                                   city  \\\n",
      "0     1000   Anamaria      Bauer   45  Atlanta-Sandy Springs-Roswell, GA MSA   \n",
      "1     1001     Mickey  Wilkerson   28        Seattle-Tacoma-Bellevue, WA MSA   \n",
      "2     1001     Mickey  Wilkerson   28        Seattle-Tacoma-Bellevue, WA MSA   \n",
      "3     1001     Mickey  Wilkerson   28        Seattle-Tacoma-Bellevue, WA MSA   \n",
      "4     1001     Mickey  Wilkerson   28        Seattle-Tacoma-Bellevue, WA MSA   \n",
      "\n",
      "    reg_date      plan churn_date year_month  num_calls  num_messages  \\\n",
      "0 2018-12-24  ultimate      acive    2018-12         16            11   \n",
      "1 2018-08-13      surf      acive    2018-08         27            30   \n",
      "2 2018-08-13      surf      acive    2018-09         49            44   \n",
      "3 2018-08-13      surf      acive    2018-10         65            53   \n",
      "4 2018-08-13      surf      acive    2018-11         64            36   \n",
      "\n",
      "   total_minutes  total_gb  plan_cost  income_per_minute  income_per_message  \\\n",
      "0          124.0       4.0         70                0.0                0.00   \n",
      "1          182.0      21.0         20                0.0                0.00   \n",
      "2          315.0      40.0         20                0.0                0.00   \n",
      "3          393.0      48.0         20                0.0                0.09   \n",
      "4          426.0      48.0         20                0.0                0.00   \n",
      "\n",
      "   income_per_internet  \n",
      "0                  0.0  \n",
      "1                 60.0  \n",
      "2                250.0  \n",
      "3                330.0  \n",
      "4                330.0  \n"
     ]
    }
   ],
   "source": [
    "def additional_cost_in(row):\n",
    "    plan = row[\"plan\"]\n",
    "    internet_gb = row[\"total_gb\"]\n",
    "    \n",
    "    \n",
    "    if plan == \"surf\":\n",
    "        if internet_gb <= 15:  \n",
    "            return 0\n",
    "        else:\n",
    "            return (internet_gb - 15) * 10\n",
    "    elif plan == \"ultimate\":\n",
    "        if internet_gb <= 30:  \n",
    "            return 0\n",
    "        else:\n",
    "            return (internet_gb - 30) * 7  \n",
    "    \n",
    "\n",
    "merged_df_1[\"income_per_internet\"] = merged_df_1.apply(additional_cost_in, axis=1)\n",
    "print(merged_df_1.head())"
   ]
  },
  {
   "cell_type": "code",
   "execution_count": 63,
   "metadata": {},
   "outputs": [
    {
     "name": "stdout",
     "output_type": "stream",
     "text": [
      "   user_id first_name  last_name  age                                   city  \\\n",
      "0     1000   Anamaria      Bauer   45  Atlanta-Sandy Springs-Roswell, GA MSA   \n",
      "1     1001     Mickey  Wilkerson   28        Seattle-Tacoma-Bellevue, WA MSA   \n",
      "2     1001     Mickey  Wilkerson   28        Seattle-Tacoma-Bellevue, WA MSA   \n",
      "3     1001     Mickey  Wilkerson   28        Seattle-Tacoma-Bellevue, WA MSA   \n",
      "4     1001     Mickey  Wilkerson   28        Seattle-Tacoma-Bellevue, WA MSA   \n",
      "\n",
      "    reg_date      plan churn_date year_month  num_calls  num_messages  \\\n",
      "0 2018-12-24  ultimate      acive    2018-12         16            11   \n",
      "1 2018-08-13      surf      acive    2018-08         27            30   \n",
      "2 2018-08-13      surf      acive    2018-09         49            44   \n",
      "3 2018-08-13      surf      acive    2018-10         65            53   \n",
      "4 2018-08-13      surf      acive    2018-11         64            36   \n",
      "\n",
      "   total_minutes  total_gb  plan_cost  income_per_minute  income_per_message  \\\n",
      "0          124.0       4.0         70                0.0                0.00   \n",
      "1          182.0      21.0         20                0.0                0.00   \n",
      "2          315.0      40.0         20                0.0                0.00   \n",
      "3          393.0      48.0         20                0.0                0.09   \n",
      "4          426.0      48.0         20                0.0                0.00   \n",
      "\n",
      "   income_per_internet  total_income  \n",
      "0                  0.0         70.00  \n",
      "1                 60.0         80.00  \n",
      "2                250.0        270.00  \n",
      "3                330.0        350.09  \n",
      "4                330.0        350.00  \n"
     ]
    }
   ],
   "source": [
    "# Calcula el ingreso mensual para cada usuario\n",
    "merged_df_1[\"total_income\"] = merged_df_1[[\"plan_cost\", \"income_per_minute\", \"income_per_message\", \"income_per_internet\"]].sum(axis=1)\n",
    "print(merged_df_1.head())"
   ]
  },
  {
   "cell_type": "markdown",
   "metadata": {},
   "source": [
    "Realice las operaciones correspondientes para conocer el ingresos que representa el excedente de minutos, mensajes y gigabytes utilizado por cada cliente."
   ]
  },
  {
   "cell_type": "markdown",
   "metadata": {
    "id": "-jtyHzJb0q1I"
   },
   "source": [
    "## Estudia el comportamiento de usuario"
   ]
  },
  {
   "cell_type": "markdown",
   "metadata": {
    "id": "vtW4CJEe0q1J"
   },
   "source": [
    "### Llamadas"
   ]
  },
  {
   "cell_type": "code",
   "execution_count": 79,
   "metadata": {
    "id": "Jf5v5--k0q1J"
   },
   "outputs": [
    {
     "data": {
      "image/png": "[encoded data removed]",
      "text/plain": [
       "<Figure size 1500x600 with 1 Axes>"
      ]
     },
     "metadata": {},
     "output_type": "display_data"
    }
   ],
   "source": [
    "# Compara la duración promedio de llamadas por cada plan y por cada mes. Traza un gráfico de barras para visualizarla.\n",
    "filtered_df = merged_df_1[merged_df_1[\"plan\"].isin([\"surf\", \"ultimate\"])]\n",
    "\n",
    "call_duration = filtered_df.groupby([\"plan\", \"year_month\"])[\"num_calls\"].mean().reset_index()\n",
    "\n",
    "\n",
    "fig, ax = plt.subplots(figsize=(15, 6))\n",
    "\n",
    "\n",
    "for plan in [\"surf\", \"ultimate\"]:\n",
    "    plan_data = call_duration[call_duration[\"plan\"] == plan]\n",
    "    ax.bar(plan_data[\"year_month\"].astype(str), plan_data[\"num_calls\"], alpha=0.5, label=plan)\n",
    "\n",
    "\n",
    "ax.set_xlabel(\"Mes\")\n",
    "ax.set_ylabel(\"Número de llamadas\")\n",
    "ax.set_title(\"Duración promedio de llamadas por plan y mes\")\n",
    "ax.legend(title=\"Plan\")\n",
    "\n",
    "plt.show()"
   ]
  },
  {
   "cell_type": "markdown",
   "metadata": {},
   "source": [
    "La grafica compara el promedio de minutos utilizados por mes del plan Surf y del plan Ultimate."
   ]
  },
  {
   "cell_type": "code",
   "execution_count": 80,
   "metadata": {
    "id": "QoLqW1S_0q1J"
   },
   "outputs": [
    {
     "data": {
      "image/png": "[encoded data removed]",
      "text/plain": [
       "<Figure size 1500x600 with 1 Axes>"
      ]
     },
     "metadata": {},
     "output_type": "display_data"
    }
   ],
   "source": [
    "# Compara el número de minutos mensuales que necesitan los usuarios de cada plan. Traza un histograma.\n",
    "\n",
    "surf_data = merged_df_1[merged_df_1[\"plan\"] == \"surf\"]\n",
    "ultimate_data = merged_df_1[merged_df_1[\"plan\"] == \"ultimate\"]\n",
    "\n",
    "surf_min = surf_data.groupby([\"user_id\", \"year_month\"])[\"total_minutes\"].sum().reset_index()\n",
    "ultimate_min = ultimate_data.groupby([\"user_id\", \"year_month\"])[\"total_minutes\"].sum().reset_index()\n",
    "\n",
    "fig, ax = plt.subplots(figsize=(15, 6))\n",
    "\n",
    "ax.hist(surf_min[\"total_minutes\"], bins=20, alpha=0.5, label=\"Surf\", color=\"blue\")\n",
    "ax.hist(ultimate_min[\"total_minutes\"], bins=20, alpha=0.5, label=\"Ultimate\", color=\"green\")\n",
    "\n",
    "ax.set_xlabel(\"Minutos totales\")\n",
    "ax.set_ylabel(\"Usuarios\")\n",
    "ax.set_title(\"Distribución de minutos totales por plan\")\n",
    "ax.legend(title=\"Plan\")\n",
    "\n",
    "plt.show()"
   ]
  },
  {
   "cell_type": "code",
   "execution_count": 81,
   "metadata": {
    "id": "oSndbAnt0q1K"
   },
   "outputs": [
    {
     "name": "stdout",
     "output_type": "stream",
     "text": [
      "Media: 444.7015349630472\n",
      "Varianza: 57550.18436944605\n"
     ]
    }
   ],
   "source": [
    "# Calcula la media y la varianza de la duración mensual de llamadas.\n",
    "mean_calls = merged_df_1[\"total_minutes\"].mean()\n",
    "var_calls = np.var(merged_df_1[\"total_minutes\"])\n",
    "print(f\"Media: {mean_calls}\")\n",
    "print(f\"Varianza: {var_calls}\")"
   ]
  },
  {
   "cell_type": "code",
   "execution_count": 82,
   "metadata": {
    "id": "nZzoRUKc0q1K"
   },
   "outputs": [
    {
     "data": {
      "text/plain": [
       "<AxesSubplot:xlabel='total_minutes'>"
      ]
     },
     "execution_count": 82,
     "metadata": {},
     "output_type": "execute_result"
    },
    {
     "data": {
      "image/png": "[encoded data removed]",
      "text/plain": [
       "<Figure size 640x480 with 1 Axes>"
      ]
     },
     "metadata": {},
     "output_type": "display_data"
    }
   ],
   "source": [
    "# Traza un diagrama de caja para visualizar la distribución de la duración mensual de llamadas\n",
    "monthly_call_duration = merged_df_1.groupby(\"year_month\")[\"total_minutes\"].sum()\n",
    "sns.boxplot(monthly_call_duration)"
   ]
  },
  {
   "cell_type": "markdown",
   "metadata": {},
   "source": [
    "Los usuarios del plan Surf utilizan más sus minutos que los usuarios del plan Ultimate, el número de llamdas realizadas por los uriarios del plan Surf son muy similares que a los uasuarios del plan Ultimate excepto por tres meses (enero, febrero y marzo) ya que tiene una diferencia de llamadas entre ambos. En promedio se utilizan 445 minutos por usuario.  "
   ]
  },
  {
   "cell_type": "markdown",
   "metadata": {
    "id": "8idKy8Wh0q1L"
   },
   "source": [
    "### Mensajes"
   ]
  },
  {
   "cell_type": "code",
   "execution_count": 83,
   "metadata": {
    "id": "NXLxiTit0q1L"
   },
   "outputs": [
    {
     "data": {
      "image/png": "[encoded data removed]",
      "text/plain": [
       "<Figure size 640x480 with 1 Axes>"
      ]
     },
     "metadata": {},
     "output_type": "display_data"
    }
   ],
   "source": [
    "# Comprara el número de mensajes que tienden a enviar cada mes los usuarios de cada plan\n",
    "surf_messages = surf_data.groupby([\"user_id\", \"year_month\"])[\"num_messages\"].sum().reset_index()\n",
    "ultimate_messages = ultimate_data.groupby([\"user_id\", \"year_month\"])[\"num_messages\"].sum().reset_index()\n",
    "\n",
    "fig, ax = plt.subplots()\n",
    "\n",
    "ax.hist(surf_messages[\"num_messages\"], bins=15, alpha=0.5, label=\"Surf\", color=\"blue\")\n",
    "ax.hist(ultimate_messages[\"num_messages\"], bins=15, alpha=0.5, label=\"Ultimate\", color=\"green\")\n",
    "\n",
    "ax.set_xlabel(\"Número de mensajes\")\n",
    "ax.set_ylabel(\"Número de usuarios\")\n",
    "ax.set_title(\"Número de mensajes enviados mensuales por plan\")\n",
    "ax.legend(title=\"Plan\")\n",
    "\n",
    "plt.show()"
   ]
  },
  {
   "cell_type": "code",
   "execution_count": 84,
   "metadata": {
    "id": "GRI_R7xF0q1L"
   },
   "outputs": [
    {
     "name": "stdout",
     "output_type": "stream",
     "text": [
      "Media: 41.78283115406481\n",
      "Varianza: 1066.9477211488647\n"
     ]
    }
   ],
   "source": [
    "mean_messages = merged_df_1[\"num_messages\"].mean()\n",
    "var_messages = np.var(merged_df_1[\"num_messages\"])\n",
    "print(f\"Media: {mean_messages}\")\n",
    "print(f\"Varianza: {var_messages}\")"
   ]
  },
  {
   "cell_type": "code",
   "execution_count": 85,
   "metadata": {
    "id": "dtFwCGAp0q1M"
   },
   "outputs": [
    {
     "data": {
      "text/plain": [
       "<AxesSubplot:xlabel='num_messages'>"
      ]
     },
     "execution_count": 85,
     "metadata": {},
     "output_type": "execute_result"
    },
    {
     "data": {
      "image/png": "[encoded data removed]",
      "text/plain": [
       "<Figure size 640x480 with 1 Axes>"
      ]
     },
     "metadata": {},
     "output_type": "display_data"
    }
   ],
   "source": [
    "monthly_messages_duration = merged_df_1.groupby(\"year_month\")[\"num_messages\"].sum()\n",
    "sns.boxplot(monthly_messages_duration)"
   ]
  },
  {
   "cell_type": "markdown",
   "metadata": {},
   "source": [
    "Por lo que se puede obsevar en el frafico los usuarion que más utilizan SMS son los que han contratado el plan Surf, en comparacion a los que han optado por el plan Ultimate, en promedio se envian 42 SMS por usuario."
   ]
  },
  {
   "cell_type": "markdown",
   "metadata": {
    "id": "42YSypXz0q1M"
   },
   "source": [
    "### Internet"
   ]
  },
  {
   "cell_type": "code",
   "execution_count": 88,
   "metadata": {
    "id": "lSuKPtjh0q1M"
   },
   "outputs": [
    {
     "data": {
      "image/png": "[encoded data removed]",
      "text/plain": [
       "<Figure size 640x480 with 1 Axes>"
      ]
     },
     "metadata": {},
     "output_type": "display_data"
    }
   ],
   "source": [
    "# Compara la cantidad de tráfico de Internet consumido por usuarios por plan\n",
    "surf_internet = surf_data.groupby([\"user_id\", \"year_month\"])[\"total_gb\"].sum().reset_index()\n",
    "ultimate_internet = ultimate_data.groupby([\"user_id\", \"year_month\"])[\"total_gb\"].sum().reset_index()\n",
    "\n",
    "fig, ax = plt.subplots()\n",
    "\n",
    "ax.hist(surf_internet[\"total_gb\"], bins=15, alpha=0.5, label=\"Surf\", color=\"blue\")\n",
    "ax.hist(ultimate_internet[\"total_gb\"], bins=15, alpha=0.5, label=\"Ultimate\", color=\"green\")\n",
    "\n",
    "ax.set_xlabel(\"Número de megabytes\")\n",
    "ax.set_ylabel(\"Número de usuarios\")\n",
    "ax.set_title(\"Tráfico de internet consumido al mes por plan\")\n",
    "ax.legend(title=\"Plan\")\n",
    "\n",
    "plt.show()"
   ]
  },
  {
   "cell_type": "code",
   "execution_count": 90,
   "metadata": {
    "id": "wnh8jYXi0q1N"
   },
   "outputs": [
    {
     "name": "stdout",
     "output_type": "stream",
     "text": [
      "Media: 39.818646958499144\n",
      "Varianza: 271.474217384742\n"
     ]
    }
   ],
   "source": [
    "mean_internet = merged_df_1[\"total_gb\"].mean()\n",
    "var_internet = np.var(merged_df_1[\"total_gb\"])\n",
    "print(f\"Media: {mean_internet}\")\n",
    "print(f\"Varianza: {var_internet}\")"
   ]
  },
  {
   "cell_type": "code",
   "execution_count": 92,
   "metadata": {
    "id": "5VlyJ9ry0q1N"
   },
   "outputs": [
    {
     "data": {
      "text/plain": [
       "<AxesSubplot:xlabel='total_gb'>"
      ]
     },
     "execution_count": 92,
     "metadata": {},
     "output_type": "execute_result"
    },
    {
     "data": {
      "image/png": "[encoded data removed]",
      "text/plain": [
       "<Figure size 640x480 with 1 Axes>"
      ]
     },
     "metadata": {},
     "output_type": "display_data"
    }
   ],
   "source": [
    "monthly_internet_duration = merged_df_1.groupby(\"year_month\")[\"total_gb\"].sum()\n",
    "sns.boxplot(monthly_internet_duration)"
   ]
  },
  {
   "cell_type": "markdown",
   "metadata": {},
   "source": [
    "Como podemos observar en la grafica los usuarios del pla Surf son los que han utilizado más gigabytes, en comparación con los usuarios que utilizan el plan Ultimate que utilizan menos gigabytes. se puede decir qu en promedio se utilizan 40 mb."
   ]
  },
  {
   "cell_type": "markdown",
   "metadata": {
    "id": "tCijq3260q1N"
   },
   "source": [
    "## Ingreso"
   ]
  },
  {
   "cell_type": "code",
   "execution_count": 93,
   "metadata": {},
   "outputs": [
    {
     "data": {
      "image/png": "[encoded data removed]",
      "text/plain": [
       "<Figure size 640x480 with 1 Axes>"
      ]
     },
     "metadata": {},
     "output_type": "display_data"
    }
   ],
   "source": [
    "income_surf = surf_data.groupby(\"user_id\")[\"total_income\"].sum()\n",
    "income_ultimate = ultimate_data.groupby(\"user_id\")[\"total_income\"].sum()\n",
    "\n",
    "fig, ax = plt.subplots()\n",
    "\n",
    "ax.hist(income_surf, alpha=0.5, label=\"Surf\", color=\"blue\")\n",
    "ax.hist(income_ultimate, alpha=0.5, label=\"Ultimate\", color=\"green\")\n",
    "\n",
    "ax.set_xlabel(\"Ingresos\")\n",
    "ax.set_ylabel(\"Número de usuarios\")\n",
    "ax.set_title(\"Ingreso total por plan\")\n",
    "ax.legend(title=\"Plan\")\n",
    "\n",
    "plt.show()"
   ]
  },
  {
   "cell_type": "markdown",
   "metadata": {},
   "source": [
    "En esta grafica nos podemos percatar que los ingresos por el plan de prepago Surf son considerablemente mayores a los del plan de prepago Ultimate, para esta grafica se tomó en cuenta tanto el ingreso base que es la cantidad cobrada inicialmente por cada uno de los planes y los ingresos extras que cada uno obtuvo por os minutos, mensajes y megabytes utilizados por cada usuario."
   ]
  },
  {
   "cell_type": "markdown",
   "metadata": {
    "id": "ajJ7VKeI0q1Q"
   },
   "source": [
    "## Prueba las hipótesis estadísticas"
   ]
  },
  {
   "cell_type": "markdown",
   "metadata": {
    "id": "AdXAZ-yL0q1Q"
   },
   "source": [
    "Hipótesis nula:  son diferentes los ingresos promedio procedentes de los usuarios de los planes de llamada Ultimate y Surf.\n",
    "\n",
    "Hipótesis alternatica: no son diferentes los ingresos promedio de los ususarios de los planes de llamada Ultimate y Surf."
   ]
  },
  {
   "cell_type": "code",
   "execution_count": 95,
   "metadata": {},
   "outputs": [],
   "source": [
    "total_income_calls_s = surf_data.groupby(\"user_id\")[\"income_per_minute\"].sum()\n",
    "total_income_calls_u = ultimate_data.groupby(\"user_id\")[\"income_per_minute\"].sum()"
   ]
  },
  {
   "cell_type": "code",
   "execution_count": 96,
   "metadata": {
    "id": "nFoPNlPq0q1R"
   },
   "outputs": [
    {
     "name": "stdout",
     "output_type": "stream",
     "text": [
      "valor p:  7.056081099139169e-13\n",
      "Rechazamos la hipótesis nula\n"
     ]
    }
   ],
   "source": [
    "# Prueba las hipótesis\n",
    "\n",
    "alpha = 0.05\n",
    "\n",
    "results = st.ttest_ind(total_income_calls_s, total_income_calls_u, equal_var= False) \n",
    "\n",
    "print('valor p: ', results.pvalue) \n",
    "\n",
    "if results.pvalue < alpha: \n",
    "    print(\"Rechazamos la hipótesis nula\")\n",
    "else:\n",
    "    print(\"No podemos rechazar la hipótesis nula\")"
   ]
  },
  {
   "cell_type": "markdown",
   "metadata": {
    "id": "tCcAruM60q1R"
   },
   "source": [
    "Hipótesis nula: el ingreso promedio de los usuarios del área NY-NJ es diferente al de los usuarios de otras regiones.\n",
    "\n",
    "Hipótesis alternativa. el ingreso promedio de los usuarios de NY-NJ no es diferente al de los usuarios de otras regiones."
   ]
  },
  {
   "cell_type": "code",
   "execution_count": 97,
   "metadata": {
    "id": "Cqcj7wrZ0q1S"
   },
   "outputs": [
    {
     "name": "stdout",
     "output_type": "stream",
     "text": [
      "valor p:  0.9263095306816816\n",
      "No podemos rechazar la hipótesis nula\n"
     ]
    }
   ],
   "source": [
    "# Prueba las hipótesis\n",
    "users_ny = merged_df_1[merged_df_1[\"city\"] == \"New York-Newark-Jersey City, NY-NJ-PA MSA\"]  \n",
    "other_users = merged_df_1[merged_df_1[\"city\"] != \"New York-Newark-Jersey City, NY-NJ-PA MSA\"]\n",
    "income_ny = users_ny.groupby(\"user_id\")[\"total_income\"].sum()\n",
    "income_other = other_users.groupby(\"user_id\")[\"total_income\"].sum()\n",
    "alpha = 0.05\n",
    "\n",
    "results_1 = st.ttest_ind(income_ny, income_other, equal_var= False)\n",
    "\n",
    "print('valor p: ', results_1.pvalue) \n",
    "\n",
    "if results_1.pvalue < alpha: \n",
    "    print(\"Rechazamos la hipótesis nula\")\n",
    "else:\n",
    "    print(\"No podemos rechazar la hipótesis nula\")"
   ]
  },
  {
   "cell_type": "markdown",
   "metadata": {},
   "source": [
    "Tomando en cuenta que el proposito de realizar el analisis de datos para el operador de telecomunicaciones Megaline, que tiene como finalidad analizar el comportamiento de los clientes y determinar qué tarifa de prepago genera más ingresos, de acuerdo a lo observado en el analisis realizado se puede concluir que los usuarios del plan de prepago utilizan más tanto los minutos, mensajes y megabytes, esto en comparacion a los usuarios del plan Ultimate, lo que se traduce que aunque sea mayor el pago por cada plan Ultimate contratado, en comparación con el plan Surf que se adquiere por 20$ son los usuarios que más exceden el limite que obtienen por su plan lo que se traduce en mayores ingresos. "
   ]
  }
 ],
 "metadata": {
  "ExecuteTimeLog": [
   {
    "duration": 828,
    "start_time": "2021-11-16T09:21:11.304Z"
   },
   {
    "duration": 893,
    "start_time": "2021-11-16T09:21:17.728Z"
   },
   {
    "duration": 1150,
    "start_time": "2021-11-16T09:21:29.568Z"
   },
   {
    "duration": 3,
    "start_time": "2021-11-16T09:24:14.495Z"
   },
   {
    "duration": 120,
    "start_time": "2021-11-16T09:24:46.630Z"
   },
   {
    "duration": 3,
    "start_time": "2021-11-16T09:28:27.882Z"
   },
   {
    "duration": 4,
    "start_time": "2021-11-16T09:29:54.281Z"
   },
   {
    "duration": 3,
    "start_time": "2021-11-16T09:30:45.936Z"
   },
   {
    "duration": 4,
    "start_time": "2021-11-16T09:31:06.300Z"
   },
   {
    "duration": 113,
    "start_time": "2021-11-16T09:31:37.208Z"
   },
   {
    "duration": 143,
    "start_time": "2021-11-16T09:31:48.656Z"
   },
   {
    "duration": 98,
    "start_time": "2021-11-16T09:31:55.678Z"
   },
   {
    "duration": 3,
    "start_time": "2021-11-16T09:32:08.535Z"
   },
   {
    "duration": 111,
    "start_time": "2021-11-16T09:32:10.120Z"
   },
   {
    "duration": 3,
    "start_time": "2021-11-16T09:32:15.732Z"
   },
   {
    "duration": 4,
    "start_time": "2021-11-16T09:32:29.423Z"
   },
   {
    "duration": 3,
    "start_time": "2021-11-16T10:03:03.074Z"
   },
   {
    "duration": 3,
    "start_time": "2021-11-16T10:10:01.288Z"
   },
   {
    "duration": 3,
    "start_time": "2021-11-16T10:10:46.923Z"
   },
   {
    "duration": 121,
    "start_time": "2021-11-16T10:37:46.494Z"
   },
   {
    "duration": 125,
    "start_time": "2021-11-16T10:38:20.632Z"
   },
   {
    "duration": 112,
    "start_time": "2021-11-16T10:46:53.001Z"
   },
   {
    "duration": 110,
    "start_time": "2021-11-16T10:48:25.775Z"
   },
   {
    "duration": 3,
    "start_time": "2021-11-16T10:50:18.720Z"
   },
   {
    "duration": 4,
    "start_time": "2021-11-16T10:50:37.649Z"
   },
   {
    "duration": 2,
    "start_time": "2021-11-16T10:50:51.884Z"
   },
   {
    "duration": 3,
    "start_time": "2021-11-16T10:51:56.237Z"
   },
   {
    "duration": 101,
    "start_time": "2021-11-16T10:53:13.791Z"
   },
   {
    "duration": 3,
    "start_time": "2021-11-16T10:55:59.186Z"
   },
   {
    "duration": 3,
    "start_time": "2021-11-16T10:56:10.751Z"
   },
   {
    "duration": 3,
    "start_time": "2021-11-16T10:56:49.038Z"
   },
   {
    "duration": 3,
    "start_time": "2021-11-16T10:56:49.174Z"
   },
   {
    "duration": 4,
    "start_time": "2021-11-16T10:56:49.414Z"
   },
   {
    "duration": 3,
    "start_time": "2021-11-16T10:56:49.680Z"
   },
   {
    "duration": 3,
    "start_time": "2021-11-16T10:56:50.370Z"
   },
   {
    "duration": 114,
    "start_time": "2021-11-16T10:59:34.518Z"
   },
   {
    "duration": 3,
    "start_time": "2021-11-16T11:01:41.201Z"
   },
   {
    "duration": 116,
    "start_time": "2021-11-16T11:01:48.754Z"
   },
   {
    "duration": 3,
    "start_time": "2021-11-16T11:02:16.685Z"
   },
   {
    "duration": 3,
    "start_time": "2021-11-16T11:02:19.479Z"
   },
   {
    "duration": 3,
    "start_time": "2021-11-16T11:02:47.067Z"
   },
   {
    "duration": 3,
    "start_time": "2021-11-16T11:02:49.353Z"
   },
   {
    "duration": 3,
    "start_time": "2021-11-16T11:03:07.835Z"
   },
   {
    "duration": 3,
    "start_time": "2021-11-16T11:03:07.953Z"
   },
   {
    "duration": 112,
    "start_time": "2021-11-16T11:07:52.072Z"
   },
   {
    "duration": 187,
    "start_time": "2021-11-16T11:09:23.468Z"
   },
   {
    "duration": 4,
    "start_time": "2021-11-16T11:10:01.455Z"
   },
   {
    "duration": 3,
    "start_time": "2021-11-16T11:10:05.069Z"
   },
   {
    "duration": 4,
    "start_time": "2021-11-16T11:10:13.376Z"
   },
   {
    "duration": 3,
    "start_time": "2021-11-16T11:10:14.434Z"
   },
   {
    "duration": 3,
    "start_time": "2021-11-16T11:10:22.853Z"
   },
   {
    "duration": 4,
    "start_time": "2021-11-16T11:27:29.279Z"
   },
   {
    "duration": 4,
    "start_time": "2021-11-16T11:29:08.919Z"
   },
   {
    "duration": 118,
    "start_time": "2021-11-16T11:29:46.703Z"
   },
   {
    "duration": 437,
    "start_time": "2021-11-16T11:36:02.181Z"
   },
   {
    "duration": 157,
    "start_time": "2021-11-16T11:36:14.388Z"
   },
   {
    "duration": 207,
    "start_time": "2021-11-16T11:47:15.898Z"
   },
   {
    "duration": 3,
    "start_time": "2021-11-16T11:53:52.092Z"
   },
   {
    "duration": 3,
    "start_time": "2021-11-16T11:53:52.236Z"
   },
   {
    "duration": 3,
    "start_time": "2021-11-16T11:59:12.005Z"
   },
   {
    "duration": 112,
    "start_time": "2021-11-16T12:00:33.446Z"
   },
   {
    "duration": 3,
    "start_time": "2021-11-16T12:02:14.453Z"
   },
   {
    "duration": 3,
    "start_time": "2021-11-16T12:02:39.512Z"
   },
   {
    "duration": 106,
    "start_time": "2021-11-16T12:03:03.460Z"
   },
   {
    "duration": 3,
    "start_time": "2021-11-17T20:37:21.139Z"
   },
   {
    "duration": 3,
    "start_time": "2021-11-17T20:37:22.229Z"
   },
   {
    "duration": 3,
    "start_time": "2021-11-17T20:38:38.806Z"
   },
   {
    "duration": 3,
    "start_time": "2021-11-17T20:38:41.958Z"
   },
   {
    "duration": 3,
    "start_time": "2021-11-17T20:43:46.551Z"
   },
   {
    "duration": 4,
    "start_time": "2021-11-17T20:58:21.835Z"
   },
   {
    "duration": 3,
    "start_time": "2021-11-17T20:59:21.872Z"
   },
   {
    "duration": 4,
    "start_time": "2021-11-17T20:59:45.352Z"
   },
   {
    "duration": 4,
    "start_time": "2021-11-17T20:59:49.646Z"
   },
   {
    "duration": 159,
    "start_time": "2021-11-17T21:02:26.949Z"
   },
   {
    "duration": 3,
    "start_time": "2021-11-17T21:03:53.461Z"
   },
   {
    "duration": 3,
    "start_time": "2021-11-17T21:03:53.694Z"
   },
   {
    "duration": 3,
    "start_time": "2021-11-17T21:05:28.145Z"
   },
   {
    "duration": 116,
    "start_time": "2021-11-17T21:05:57.787Z"
   },
   {
    "duration": 3,
    "start_time": "2021-11-17T21:06:37.993Z"
   },
   {
    "duration": 3,
    "start_time": "2021-11-17T21:06:38.261Z"
   },
   {
    "duration": 3,
    "start_time": "2021-11-17T21:11:54.358Z"
   },
   {
    "duration": 3,
    "start_time": "2021-11-17T21:12:43.846Z"
   },
   {
    "duration": 4,
    "start_time": "2021-11-17T21:13:08.773Z"
   },
   {
    "duration": 3,
    "start_time": "2021-11-17T21:14:44.441Z"
   },
   {
    "duration": 3,
    "start_time": "2021-11-17T21:15:42.059Z"
   },
   {
    "duration": 4,
    "start_time": "2021-11-17T21:15:51.995Z"
   },
   {
    "duration": 3,
    "start_time": "2021-11-17T21:15:53.923Z"
   },
   {
    "duration": 3,
    "start_time": "2021-11-17T21:15:55.282Z"
   },
   {
    "duration": 3,
    "start_time": "2021-11-17T21:16:28.492Z"
   },
   {
    "duration": 3,
    "start_time": "2021-11-17T21:16:32.603Z"
   },
   {
    "duration": 3,
    "start_time": "2021-11-17T21:17:06.941Z"
   },
   {
    "duration": 98,
    "start_time": "2021-11-17T21:18:05.733Z"
   },
   {
    "duration": 4,
    "start_time": "2021-11-17T21:21:35.255Z"
   },
   {
    "duration": 3,
    "start_time": "2021-11-17T21:21:37.804Z"
   },
   {
    "duration": 4,
    "start_time": "2021-11-17T21:23:06.071Z"
   },
   {
    "duration": 3,
    "start_time": "2021-11-17T21:23:24.799Z"
   },
   {
    "duration": 3,
    "start_time": "2021-11-17T21:23:32.591Z"
   },
   {
    "duration": 98,
    "start_time": "2021-11-17T21:28:31.559Z"
   },
   {
    "duration": 3,
    "start_time": "2021-11-17T21:28:45.448Z"
   },
   {
    "duration": 3,
    "start_time": "2021-11-17T21:29:17.303Z"
   },
   {
    "duration": 3,
    "start_time": "2021-11-17T21:29:29.617Z"
   },
   {
    "duration": 3,
    "start_time": "2021-11-17T21:29:32.681Z"
   },
   {
    "duration": 3,
    "start_time": "2021-11-17T21:36:11.474Z"
   },
   {
    "duration": 3,
    "start_time": "2021-11-17T21:36:14.791Z"
   },
   {
    "duration": 3,
    "start_time": "2021-11-17T21:36:53.943Z"
   },
   {
    "duration": 3,
    "start_time": "2021-11-17T21:36:56.165Z"
   },
   {
    "duration": 4,
    "start_time": "2021-11-17T21:37:16.590Z"
   },
   {
    "duration": 3,
    "start_time": "2021-11-17T21:37:22.702Z"
   },
   {
    "duration": 4,
    "start_time": "2021-11-17T21:38:03.479Z"
   },
   {
    "duration": 3,
    "start_time": "2021-11-17T21:38:08.601Z"
   },
   {
    "duration": 3,
    "start_time": "2021-11-17T21:38:12.928Z"
   },
   {
    "duration": 3,
    "start_time": "2021-11-17T21:38:48.896Z"
   },
   {
    "duration": 2,
    "start_time": "2021-11-17T21:38:49.171Z"
   },
   {
    "duration": 4,
    "start_time": "2021-11-17T21:39:57.889Z"
   },
   {
    "duration": 3,
    "start_time": "2021-11-17T21:39:58.057Z"
   },
   {
    "duration": 3,
    "start_time": "2021-11-17T21:41:20.108Z"
   },
   {
    "duration": 3,
    "start_time": "2021-11-17T21:41:20.629Z"
   },
   {
    "duration": 3,
    "start_time": "2021-11-17T21:42:49.136Z"
   },
   {
    "duration": 3,
    "start_time": "2021-11-17T21:43:15.137Z"
   },
   {
    "duration": 4,
    "start_time": "2021-11-17T21:43:16.766Z"
   },
   {
    "duration": 4,
    "start_time": "2021-11-17T21:43:31.711Z"
   },
   {
    "duration": 3,
    "start_time": "2021-11-17T21:43:36.312Z"
   },
   {
    "duration": 4,
    "start_time": "2021-11-17T21:45:08.825Z"
   },
   {
    "duration": 4,
    "start_time": "2021-11-17T21:45:10.119Z"
   },
   {
    "duration": 4,
    "start_time": "2021-11-17T21:45:13.748Z"
   },
   {
    "duration": 3,
    "start_time": "2021-11-17T21:45:22.219Z"
   },
   {
    "duration": 3,
    "start_time": "2021-11-17T21:45:33.412Z"
   },
   {
    "duration": 2,
    "start_time": "2021-11-17T21:46:01.885Z"
   },
   {
    "duration": 3,
    "start_time": "2021-11-17T21:46:03.628Z"
   },
   {
    "duration": 107,
    "start_time": "2021-11-17T21:47:32.512Z"
   },
   {
    "duration": 103,
    "start_time": "2021-11-17T21:50:36.243Z"
   },
   {
    "duration": 3,
    "start_time": "2021-11-18T06:28:31.440Z"
   },
   {
    "duration": 3,
    "start_time": "2021-11-18T06:29:00.168Z"
   },
   {
    "duration": 3,
    "start_time": "2021-11-18T06:31:27.008Z"
   },
   {
    "duration": 2,
    "start_time": "2021-11-18T06:35:34.288Z"
   },
   {
    "duration": 2,
    "start_time": "2021-11-18T06:38:04.527Z"
   },
   {
    "duration": 864,
    "start_time": "2024-05-22T23:37:51.354Z"
   },
   {
    "duration": 350,
    "start_time": "2024-05-22T23:44:53.970Z"
   },
   {
    "duration": 73,
    "start_time": "2024-05-22T23:47:34.750Z"
   },
   {
    "duration": 26,
    "start_time": "2024-05-22T23:48:28.927Z"
   },
   {
    "duration": 23,
    "start_time": "2024-05-22T23:48:59.514Z"
   },
   {
    "duration": 19,
    "start_time": "2024-05-22T23:49:12.220Z"
   },
   {
    "duration": 14,
    "start_time": "2024-05-22T23:49:26.896Z"
   },
   {
    "duration": 16,
    "start_time": "2024-05-22T23:49:38.966Z"
   },
   {
    "duration": 14,
    "start_time": "2024-05-22T23:55:18.406Z"
   },
   {
    "duration": 17,
    "start_time": "2024-05-22T23:55:34.948Z"
   },
   {
    "duration": 34,
    "start_time": "2024-05-23T00:15:31.301Z"
   },
   {
    "duration": 15,
    "start_time": "2024-05-23T00:15:56.280Z"
   },
   {
    "duration": 7,
    "start_time": "2024-05-23T00:21:41.919Z"
   },
   {
    "duration": 855,
    "start_time": "2024-05-23T00:23:50.837Z"
   },
   {
    "duration": 18,
    "start_time": "2024-05-23T00:26:25.725Z"
   },
   {
    "duration": 15,
    "start_time": "2024-05-23T00:36:47.870Z"
   },
   {
    "duration": 14,
    "start_time": "2024-05-23T00:37:17.349Z"
   },
   {
    "duration": 10,
    "start_time": "2024-05-23T00:37:54.899Z"
   },
   {
    "duration": 10,
    "start_time": "2024-05-23T00:46:23.598Z"
   },
   {
    "duration": 10,
    "start_time": "2024-05-23T01:05:43.809Z"
   },
   {
    "duration": 8,
    "start_time": "2024-05-23T01:12:52.963Z"
   },
   {
    "duration": 7,
    "start_time": "2024-05-23T01:14:53.150Z"
   },
   {
    "duration": 10,
    "start_time": "2024-05-23T01:15:44.164Z"
   },
   {
    "duration": 8,
    "start_time": "2024-05-23T01:15:58.528Z"
   },
   {
    "duration": 9,
    "start_time": "2024-05-23T01:16:02.613Z"
   },
   {
    "duration": 8,
    "start_time": "2024-05-23T01:18:19.840Z"
   },
   {
    "duration": 8,
    "start_time": "2024-05-23T01:18:23.650Z"
   },
   {
    "duration": 8,
    "start_time": "2024-05-23T01:18:51.546Z"
   },
   {
    "duration": 9,
    "start_time": "2024-05-23T01:18:55.135Z"
   },
   {
    "duration": 8,
    "start_time": "2024-05-23T01:19:17.245Z"
   },
   {
    "duration": 8,
    "start_time": "2024-05-23T01:20:10.874Z"
   },
   {
    "duration": 8,
    "start_time": "2024-05-23T01:20:16.040Z"
   },
   {
    "duration": 10,
    "start_time": "2024-05-23T01:20:41.206Z"
   },
   {
    "duration": 9,
    "start_time": "2024-05-23T01:22:16.733Z"
   },
   {
    "duration": 4,
    "start_time": "2024-05-23T01:24:49.771Z"
   },
   {
    "duration": 267,
    "start_time": "2024-05-23T01:24:55.591Z"
   },
   {
    "duration": 24,
    "start_time": "2024-05-23T01:25:01.430Z"
   },
   {
    "duration": 24,
    "start_time": "2024-05-23T01:25:04.704Z"
   },
   {
    "duration": 21,
    "start_time": "2024-05-23T01:25:08.759Z"
   },
   {
    "duration": 14,
    "start_time": "2024-05-23T01:25:09.741Z"
   },
   {
    "duration": 14,
    "start_time": "2024-05-23T01:25:13.811Z"
   },
   {
    "duration": 11,
    "start_time": "2024-05-23T01:25:16.618Z"
   },
   {
    "duration": 14,
    "start_time": "2024-05-23T01:25:23.468Z"
   },
   {
    "duration": 14,
    "start_time": "2024-05-23T01:25:26.208Z"
   },
   {
    "duration": 9,
    "start_time": "2024-05-23T01:25:31.248Z"
   },
   {
    "duration": 25,
    "start_time": "2024-05-23T01:36:08.332Z"
   },
   {
    "duration": 17,
    "start_time": "2024-05-23T01:36:25.651Z"
   },
   {
    "duration": 14,
    "start_time": "2024-05-23T01:38:19.085Z"
   },
   {
    "duration": 11,
    "start_time": "2024-05-23T01:38:35.847Z"
   },
   {
    "duration": 902,
    "start_time": "2024-05-23T17:32:16.253Z"
   },
   {
    "duration": 360,
    "start_time": "2024-05-23T17:32:23.710Z"
   },
   {
    "duration": 28,
    "start_time": "2024-05-23T17:32:29.421Z"
   },
   {
    "duration": 23,
    "start_time": "2024-05-23T17:32:32.930Z"
   },
   {
    "duration": 15,
    "start_time": "2024-05-23T17:32:36.038Z"
   },
   {
    "duration": 15,
    "start_time": "2024-05-23T17:32:40.559Z"
   },
   {
    "duration": 18,
    "start_time": "2024-05-23T17:32:44.348Z"
   },
   {
    "duration": 14,
    "start_time": "2024-05-23T17:32:49.928Z"
   },
   {
    "duration": 15,
    "start_time": "2024-05-23T17:32:53.083Z"
   },
   {
    "duration": 9,
    "start_time": "2024-05-23T17:32:59.977Z"
   },
   {
    "duration": 24,
    "start_time": "2024-05-23T17:33:07.451Z"
   },
   {
    "duration": 12,
    "start_time": "2024-05-23T17:33:10.853Z"
   },
   {
    "duration": 473,
    "start_time": "2024-05-23T17:42:26.663Z"
   },
   {
    "duration": 27,
    "start_time": "2024-05-23T17:42:44.301Z"
   },
   {
    "duration": 19,
    "start_time": "2024-05-23T17:42:54.174Z"
   },
   {
    "duration": 16,
    "start_time": "2024-05-23T17:43:03.021Z"
   },
   {
    "duration": 8,
    "start_time": "2024-05-23T17:43:11.061Z"
   },
   {
    "duration": 20,
    "start_time": "2024-05-23T17:47:57.783Z"
   },
   {
    "duration": 56,
    "start_time": "2024-05-23T17:48:57.401Z"
   },
   {
    "duration": 27,
    "start_time": "2024-05-23T17:57:10.317Z"
   },
   {
    "duration": 11,
    "start_time": "2024-05-23T17:57:41.935Z"
   },
   {
    "duration": 22,
    "start_time": "2024-05-23T18:07:25.878Z"
   },
   {
    "duration": 15,
    "start_time": "2024-05-23T18:07:50.933Z"
   },
   {
    "duration": 11,
    "start_time": "2024-05-23T18:14:35.911Z"
   },
   {
    "duration": 897,
    "start_time": "2024-05-23T22:30:48.795Z"
   },
   {
    "duration": 371,
    "start_time": "2024-05-23T22:30:52.760Z"
   },
   {
    "duration": 16,
    "start_time": "2024-05-23T22:30:56.975Z"
   },
   {
    "duration": 17,
    "start_time": "2024-05-23T22:31:01.297Z"
   },
   {
    "duration": 14,
    "start_time": "2024-05-23T22:31:07.139Z"
   },
   {
    "duration": 14,
    "start_time": "2024-05-23T22:31:10.594Z"
   },
   {
    "duration": 11,
    "start_time": "2024-05-23T22:31:16.933Z"
   },
   {
    "duration": 8,
    "start_time": "2024-05-23T22:31:21.969Z"
   },
   {
    "duration": 33,
    "start_time": "2024-05-23T22:31:25.298Z"
   },
   {
    "duration": 12,
    "start_time": "2024-05-23T22:31:28.092Z"
   },
   {
    "duration": 24,
    "start_time": "2024-05-23T22:31:32.369Z"
   },
   {
    "duration": 63,
    "start_time": "2024-05-23T22:31:36.023Z"
   },
   {
    "duration": 20,
    "start_time": "2024-05-23T22:31:39.652Z"
   },
   {
    "duration": 12,
    "start_time": "2024-05-23T22:31:42.517Z"
   },
   {
    "duration": 23,
    "start_time": "2024-05-23T22:31:50.812Z"
   },
   {
    "duration": 13,
    "start_time": "2024-05-23T22:31:53.511Z"
   },
   {
    "duration": 14,
    "start_time": "2024-05-23T22:32:01.443Z"
   },
   {
    "duration": 441,
    "start_time": "2024-05-23T22:35:47.379Z"
   },
   {
    "duration": 514,
    "start_time": "2024-05-23T22:36:03.358Z"
   },
   {
    "duration": 6,
    "start_time": "2024-05-23T22:36:39.518Z"
   },
   {
    "duration": 8,
    "start_time": "2024-05-23T22:36:54.793Z"
   },
   {
    "duration": 10,
    "start_time": "2024-05-23T22:40:17.323Z"
   },
   {
    "duration": 15,
    "start_time": "2024-05-23T22:40:49.550Z"
   },
   {
    "duration": 23,
    "start_time": "2024-05-23T22:42:49.748Z"
   },
   {
    "duration": 23,
    "start_time": "2024-05-23T22:43:33.811Z"
   },
   {
    "duration": 23,
    "start_time": "2024-05-23T22:43:47.147Z"
   },
   {
    "duration": 25,
    "start_time": "2024-05-23T22:44:03.448Z"
   },
   {
    "duration": 22,
    "start_time": "2024-05-23T22:46:11.359Z"
   },
   {
    "duration": 48,
    "start_time": "2024-05-23T22:46:27.747Z"
   },
   {
    "duration": 51,
    "start_time": "2024-05-23T22:46:37.304Z"
   },
   {
    "duration": 26,
    "start_time": "2024-05-23T22:46:44.299Z"
   },
   {
    "duration": 23,
    "start_time": "2024-05-23T22:47:35.703Z"
   },
   {
    "duration": 65,
    "start_time": "2024-05-23T22:52:59.297Z"
   },
   {
    "duration": 20,
    "start_time": "2024-05-23T22:53:29.729Z"
   },
   {
    "duration": 348,
    "start_time": "2024-05-23T23:08:03.478Z"
   },
   {
    "duration": 49,
    "start_time": "2024-05-23T23:12:17.061Z"
   },
   {
    "duration": 36,
    "start_time": "2024-05-23T23:12:52.694Z"
   },
   {
    "duration": 6,
    "start_time": "2024-05-23T23:13:27.468Z"
   },
   {
    "duration": 20,
    "start_time": "2024-05-23T23:13:38.176Z"
   },
   {
    "duration": 55,
    "start_time": "2024-05-23T23:40:41.584Z"
   },
   {
    "duration": 20,
    "start_time": "2024-05-23T23:41:22.796Z"
   },
   {
    "duration": 82,
    "start_time": "2024-05-23T23:41:29.896Z"
   },
   {
    "duration": 35,
    "start_time": "2024-05-23T23:44:49.606Z"
   },
   {
    "duration": 4,
    "start_time": "2024-05-23T23:45:22.909Z"
   },
   {
    "duration": 275,
    "start_time": "2024-05-23T23:45:27.422Z"
   },
   {
    "duration": 17,
    "start_time": "2024-05-23T23:45:31.242Z"
   },
   {
    "duration": 12,
    "start_time": "2024-05-23T23:45:35.154Z"
   },
   {
    "duration": 23,
    "start_time": "2024-05-23T23:45:41.452Z"
   },
   {
    "duration": 17,
    "start_time": "2024-05-23T23:45:44.766Z"
   },
   {
    "duration": 8,
    "start_time": "2024-05-23T23:45:52.261Z"
   },
   {
    "duration": 9,
    "start_time": "2024-05-23T23:45:56.511Z"
   },
   {
    "duration": 24,
    "start_time": "2024-05-23T23:46:00.545Z"
   },
   {
    "duration": 11,
    "start_time": "2024-05-23T23:46:04.937Z"
   },
   {
    "duration": 19,
    "start_time": "2024-05-23T23:46:09.622Z"
   },
   {
    "duration": 57,
    "start_time": "2024-05-23T23:46:15.663Z"
   },
   {
    "duration": 43,
    "start_time": "2024-05-23T23:46:18.656Z"
   },
   {
    "duration": 27,
    "start_time": "2024-05-23T23:46:25.118Z"
   },
   {
    "duration": 10,
    "start_time": "2024-05-23T23:46:28.672Z"
   },
   {
    "duration": 22,
    "start_time": "2024-05-23T23:46:36.850Z"
   },
   {
    "duration": 12,
    "start_time": "2024-05-23T23:46:38.729Z"
   },
   {
    "duration": 12,
    "start_time": "2024-05-23T23:46:46.196Z"
   },
   {
    "duration": 53,
    "start_time": "2024-05-23T23:47:00.366Z"
   },
   {
    "duration": 62,
    "start_time": "2024-05-23T23:48:49.551Z"
   },
   {
    "duration": 12,
    "start_time": "2024-05-23T23:54:02.047Z"
   },
   {
    "duration": 6,
    "start_time": "2024-05-23T23:55:31.526Z"
   },
   {
    "duration": 11,
    "start_time": "2024-05-24T00:14:20.812Z"
   },
   {
    "duration": 3,
    "start_time": "2024-05-24T00:14:20.977Z"
   },
   {
    "duration": 15,
    "start_time": "2024-05-24T00:20:24.641Z"
   },
   {
    "duration": 13,
    "start_time": "2024-05-24T00:34:59.397Z"
   },
   {
    "duration": 39,
    "start_time": "2024-05-24T00:46:03.169Z"
   },
   {
    "duration": 36,
    "start_time": "2024-05-24T00:49:53.670Z"
   },
   {
    "duration": 5,
    "start_time": "2024-05-24T01:16:26.903Z"
   },
   {
    "duration": 57,
    "start_time": "2024-05-24T01:16:43.421Z"
   },
   {
    "duration": 35,
    "start_time": "2024-05-24T01:16:48.039Z"
   },
   {
    "duration": 42,
    "start_time": "2024-05-24T01:17:07.194Z"
   },
   {
    "duration": 21,
    "start_time": "2024-05-24T01:17:39.339Z"
   },
   {
    "duration": 19,
    "start_time": "2024-05-24T01:18:58.610Z"
   },
   {
    "duration": 32,
    "start_time": "2024-05-24T01:24:27.636Z"
   },
   {
    "duration": 964,
    "start_time": "2024-05-24T16:24:34.322Z"
   },
   {
    "duration": 381,
    "start_time": "2024-05-24T16:24:38.539Z"
   },
   {
    "duration": 17,
    "start_time": "2024-05-24T16:24:43.041Z"
   },
   {
    "duration": 22,
    "start_time": "2024-05-24T16:24:47.711Z"
   },
   {
    "duration": 15,
    "start_time": "2024-05-24T16:25:03.830Z"
   },
   {
    "duration": 15,
    "start_time": "2024-05-24T16:25:06.972Z"
   },
   {
    "duration": 10,
    "start_time": "2024-05-24T16:25:13.667Z"
   },
   {
    "duration": 13,
    "start_time": "2024-05-24T16:25:20.074Z"
   },
   {
    "duration": 39,
    "start_time": "2024-05-24T16:25:25.107Z"
   },
   {
    "duration": 14,
    "start_time": "2024-05-24T16:25:28.318Z"
   },
   {
    "duration": 24,
    "start_time": "2024-05-24T16:25:33.513Z"
   },
   {
    "duration": 63,
    "start_time": "2024-05-24T16:25:39.958Z"
   },
   {
    "duration": 30,
    "start_time": "2024-05-24T16:25:54.088Z"
   },
   {
    "duration": 27,
    "start_time": "2024-05-24T16:30:30.685Z"
   },
   {
    "duration": 16,
    "start_time": "2024-05-24T16:30:33.848Z"
   },
   {
    "duration": 17,
    "start_time": "2024-05-24T16:30:40.957Z"
   },
   {
    "duration": 38,
    "start_time": "2024-05-24T16:30:44.857Z"
   },
   {
    "duration": 1045,
    "start_time": "2024-05-24T16:30:48.254Z"
   },
   {
    "duration": 30,
    "start_time": "2024-05-24T16:31:26.050Z"
   },
   {
    "duration": 28,
    "start_time": "2024-05-24T16:31:38.377Z"
   },
   {
    "duration": 29,
    "start_time": "2024-05-24T16:32:07.051Z"
   },
   {
    "duration": 38,
    "start_time": "2024-05-24T16:45:42.102Z"
   },
   {
    "duration": 24,
    "start_time": "2024-05-24T16:49:56.687Z"
   },
   {
    "duration": 37,
    "start_time": "2024-05-24T16:53:56.000Z"
   },
   {
    "duration": 32,
    "start_time": "2024-05-24T16:54:05.771Z"
   },
   {
    "duration": 40,
    "start_time": "2024-05-24T17:19:10.874Z"
   },
   {
    "duration": 21,
    "start_time": "2024-05-24T17:19:42.708Z"
   },
   {
    "duration": 39,
    "start_time": "2024-05-24T17:47:12.384Z"
   },
   {
    "duration": 906,
    "start_time": "2024-05-24T19:55:58.367Z"
   },
   {
    "duration": 372,
    "start_time": "2024-05-24T19:56:03.673Z"
   },
   {
    "duration": 16,
    "start_time": "2024-05-24T19:56:10.498Z"
   },
   {
    "duration": 18,
    "start_time": "2024-05-24T19:56:16.270Z"
   },
   {
    "duration": 15,
    "start_time": "2024-05-24T19:56:21.385Z"
   },
   {
    "duration": 15,
    "start_time": "2024-05-24T19:56:24.552Z"
   },
   {
    "duration": 9,
    "start_time": "2024-05-24T19:57:15.780Z"
   },
   {
    "duration": 9,
    "start_time": "2024-05-24T19:57:20.140Z"
   },
   {
    "duration": 24,
    "start_time": "2024-05-24T19:57:25.245Z"
   },
   {
    "duration": 12,
    "start_time": "2024-05-24T19:57:27.549Z"
   },
   {
    "duration": 21,
    "start_time": "2024-05-24T19:57:32.530Z"
   },
   {
    "duration": 56,
    "start_time": "2024-05-24T19:57:37.327Z"
   },
   {
    "duration": 29,
    "start_time": "2024-05-24T19:57:43.429Z"
   },
   {
    "duration": 21,
    "start_time": "2024-05-24T19:57:48.274Z"
   },
   {
    "duration": 11,
    "start_time": "2024-05-24T19:58:07.801Z"
   },
   {
    "duration": 18,
    "start_time": "2024-05-24T19:58:13.360Z"
   },
   {
    "duration": 22,
    "start_time": "2024-05-24T19:58:17.643Z"
   },
   {
    "duration": 13,
    "start_time": "2024-05-24T19:58:21.064Z"
   },
   {
    "duration": 26,
    "start_time": "2024-05-24T19:58:25.599Z"
   },
   {
    "duration": 11,
    "start_time": "2024-05-24T19:58:31.155Z"
   },
   {
    "duration": 38,
    "start_time": "2024-05-24T19:58:36.138Z"
   },
   {
    "duration": 37,
    "start_time": "2024-05-24T19:58:39.775Z"
   },
   {
    "duration": 26,
    "start_time": "2024-05-24T19:58:43.183Z"
   },
   {
    "duration": 29,
    "start_time": "2024-05-24T19:58:46.154Z"
   },
   {
    "duration": 25,
    "start_time": "2024-05-24T19:58:50.334Z"
   },
   {
    "duration": 13,
    "start_time": "2024-05-24T21:04:12.905Z"
   },
   {
    "duration": 6,
    "start_time": "2024-05-24T21:04:28.649Z"
   },
   {
    "duration": 946,
    "start_time": "2024-05-25T01:21:29.723Z"
   },
   {
    "duration": 343,
    "start_time": "2024-05-25T01:21:39.954Z"
   },
   {
    "duration": 17,
    "start_time": "2024-05-25T01:21:43.938Z"
   },
   {
    "duration": 22,
    "start_time": "2024-05-25T01:21:47.394Z"
   },
   {
    "duration": 15,
    "start_time": "2024-05-25T01:21:54.835Z"
   },
   {
    "duration": 16,
    "start_time": "2024-05-25T01:21:58.131Z"
   },
   {
    "duration": 8,
    "start_time": "2024-05-25T01:22:03.036Z"
   },
   {
    "duration": 8,
    "start_time": "2024-05-25T01:22:07.620Z"
   },
   {
    "duration": 28,
    "start_time": "2024-05-25T01:22:11.736Z"
   },
   {
    "duration": 12,
    "start_time": "2024-05-25T01:22:14.949Z"
   },
   {
    "duration": 20,
    "start_time": "2024-05-25T01:22:19.290Z"
   },
   {
    "duration": 57,
    "start_time": "2024-05-25T01:22:31.470Z"
   },
   {
    "duration": 30,
    "start_time": "2024-05-25T01:22:35.762Z"
   },
   {
    "duration": 19,
    "start_time": "2024-05-25T01:22:39.933Z"
   },
   {
    "duration": 13,
    "start_time": "2024-05-25T01:22:43.330Z"
   },
   {
    "duration": 17,
    "start_time": "2024-05-25T01:22:49.911Z"
   },
   {
    "duration": 22,
    "start_time": "2024-05-25T01:22:54.498Z"
   },
   {
    "duration": 26,
    "start_time": "2024-05-25T01:23:00.090Z"
   },
   {
    "duration": 13,
    "start_time": "2024-05-25T01:23:04.398Z"
   },
   {
    "duration": 38,
    "start_time": "2024-05-25T01:23:09.139Z"
   },
   {
    "duration": 42,
    "start_time": "2024-05-25T01:23:10.691Z"
   },
   {
    "duration": 26,
    "start_time": "2024-05-25T01:23:12.923Z"
   },
   {
    "duration": 29,
    "start_time": "2024-05-25T01:23:15.180Z"
   },
   {
    "duration": 28,
    "start_time": "2024-05-25T01:23:21.936Z"
   },
   {
    "duration": 457,
    "start_time": "2024-05-25T01:43:51.593Z"
   },
   {
    "duration": 17,
    "start_time": "2024-05-25T01:44:05.150Z"
   },
   {
    "duration": 11,
    "start_time": "2024-05-25T01:46:03.302Z"
   },
   {
    "duration": 171,
    "start_time": "2024-05-25T02:03:19.134Z"
   },
   {
    "duration": 4,
    "start_time": "2024-05-25T02:03:36.051Z"
   },
   {
    "duration": 11,
    "start_time": "2024-05-25T02:04:15.224Z"
   },
   {
    "duration": 8,
    "start_time": "2024-05-25T02:08:13.167Z"
   },
   {
    "duration": 7,
    "start_time": "2024-05-25T02:08:18.475Z"
   },
   {
    "duration": 15,
    "start_time": "2024-05-25T02:09:55.503Z"
   },
   {
    "duration": 20,
    "start_time": "2024-05-25T02:30:46.734Z"
   },
   {
    "duration": 17,
    "start_time": "2024-05-25T02:37:53.764Z"
   },
   {
    "duration": 4890,
    "start_time": "2024-05-25T16:55:28.742Z"
   },
   {
    "duration": 401,
    "start_time": "2024-05-25T16:56:02.152Z"
   },
   {
    "duration": 15,
    "start_time": "2024-05-25T16:56:16.432Z"
   },
   {
    "duration": 16,
    "start_time": "2024-05-25T16:56:22.294Z"
   },
   {
    "duration": 14,
    "start_time": "2024-05-25T16:56:30.038Z"
   },
   {
    "duration": 16,
    "start_time": "2024-05-25T16:56:33.093Z"
   },
   {
    "duration": 11,
    "start_time": "2024-05-25T16:56:37.508Z"
   },
   {
    "duration": 9,
    "start_time": "2024-05-25T16:56:42.922Z"
   },
   {
    "duration": 25,
    "start_time": "2024-05-25T16:56:46.722Z"
   },
   {
    "duration": 12,
    "start_time": "2024-05-25T16:56:50.993Z"
   },
   {
    "duration": 19,
    "start_time": "2024-05-25T16:56:59.521Z"
   },
   {
    "duration": 58,
    "start_time": "2024-05-25T16:57:03.198Z"
   },
   {
    "duration": 30,
    "start_time": "2024-05-25T16:57:05.856Z"
   },
   {
    "duration": 19,
    "start_time": "2024-05-25T16:57:08.986Z"
   },
   {
    "duration": 11,
    "start_time": "2024-05-25T16:57:13.250Z"
   },
   {
    "duration": 20,
    "start_time": "2024-05-25T16:57:21.800Z"
   },
   {
    "duration": 28,
    "start_time": "2024-05-25T16:57:28.075Z"
   },
   {
    "duration": 13,
    "start_time": "2024-05-25T16:57:30.747Z"
   },
   {
    "duration": 24,
    "start_time": "2024-05-25T16:57:40.632Z"
   },
   {
    "duration": 13,
    "start_time": "2024-05-25T16:57:48.212Z"
   },
   {
    "duration": 38,
    "start_time": "2024-05-25T16:58:01.954Z"
   },
   {
    "duration": 37,
    "start_time": "2024-05-25T16:58:07.534Z"
   },
   {
    "duration": 25,
    "start_time": "2024-05-25T16:58:10.936Z"
   },
   {
    "duration": 30,
    "start_time": "2024-05-25T16:58:14.864Z"
   },
   {
    "duration": 26,
    "start_time": "2024-05-25T16:58:19.754Z"
   },
   {
    "duration": 20,
    "start_time": "2024-05-25T16:58:23.139Z"
   },
   {
    "duration": 16,
    "start_time": "2024-05-25T16:58:34.710Z"
   },
   {
    "duration": 11,
    "start_time": "2024-05-25T17:00:01.846Z"
   },
   {
    "duration": 97,
    "start_time": "2024-05-25T17:03:05.252Z"
   },
   {
    "duration": 103,
    "start_time": "2024-05-25T17:03:54.500Z"
   },
   {
    "duration": 5109,
    "start_time": "2024-05-25T18:07:21.277Z"
   },
   {
    "duration": 404,
    "start_time": "2024-05-25T18:07:30.844Z"
   },
   {
    "duration": 16,
    "start_time": "2024-05-25T18:07:41.853Z"
   },
   {
    "duration": 16,
    "start_time": "2024-05-25T18:07:45.814Z"
   },
   {
    "duration": 14,
    "start_time": "2024-05-25T18:07:51.661Z"
   },
   {
    "duration": 15,
    "start_time": "2024-05-25T18:07:57.446Z"
   },
   {
    "duration": 9,
    "start_time": "2024-05-25T18:08:05.445Z"
   },
   {
    "duration": 8,
    "start_time": "2024-05-25T18:08:21.307Z"
   },
   {
    "duration": 32,
    "start_time": "2024-05-25T18:08:31.946Z"
   },
   {
    "duration": 14,
    "start_time": "2024-05-25T18:08:37.602Z"
   },
   {
    "duration": 26,
    "start_time": "2024-05-25T18:08:42.426Z"
   },
   {
    "duration": 56,
    "start_time": "2024-05-25T18:08:46.947Z"
   },
   {
    "duration": 33,
    "start_time": "2024-05-25T18:08:50.565Z"
   },
   {
    "duration": 20,
    "start_time": "2024-05-25T18:08:58.492Z"
   },
   {
    "duration": 11,
    "start_time": "2024-05-25T18:09:08.891Z"
   },
   {
    "duration": 19,
    "start_time": "2024-05-25T18:09:14.985Z"
   },
   {
    "duration": 22,
    "start_time": "2024-05-25T18:09:22.219Z"
   },
   {
    "duration": 14,
    "start_time": "2024-05-25T18:09:27.574Z"
   },
   {
    "duration": 29,
    "start_time": "2024-05-25T18:09:33.426Z"
   },
   {
    "duration": 12,
    "start_time": "2024-05-25T18:09:38.674Z"
   },
   {
    "duration": 46,
    "start_time": "2024-05-25T18:09:44.950Z"
   },
   {
    "duration": 44,
    "start_time": "2024-05-25T18:09:48.973Z"
   },
   {
    "duration": 26,
    "start_time": "2024-05-25T18:09:54.955Z"
   },
   {
    "duration": 35,
    "start_time": "2024-05-25T18:09:57.221Z"
   },
   {
    "duration": 38,
    "start_time": "2024-05-25T18:10:01.920Z"
   },
   {
    "duration": 128,
    "start_time": "2024-05-25T18:10:14.088Z"
   },
   {
    "duration": 4,
    "start_time": "2024-05-25T18:38:28.645Z"
   },
   {
    "duration": 303,
    "start_time": "2024-05-25T18:38:32.146Z"
   },
   {
    "duration": 14,
    "start_time": "2024-05-25T18:38:36.248Z"
   },
   {
    "duration": 12,
    "start_time": "2024-05-25T18:38:45.109Z"
   },
   {
    "duration": 14,
    "start_time": "2024-05-25T18:38:50.944Z"
   },
   {
    "duration": 14,
    "start_time": "2024-05-25T18:38:53.873Z"
   },
   {
    "duration": 10,
    "start_time": "2024-05-25T18:39:00.000Z"
   },
   {
    "duration": 8,
    "start_time": "2024-05-25T18:39:05.737Z"
   },
   {
    "duration": 24,
    "start_time": "2024-05-25T18:39:10.159Z"
   },
   {
    "duration": 12,
    "start_time": "2024-05-25T18:39:14.598Z"
   },
   {
    "duration": 20,
    "start_time": "2024-05-25T18:39:23.081Z"
   },
   {
    "duration": 56,
    "start_time": "2024-05-25T18:39:27.661Z"
   },
   {
    "duration": 28,
    "start_time": "2024-05-25T18:39:30.447Z"
   },
   {
    "duration": 19,
    "start_time": "2024-05-25T18:39:35.067Z"
   },
   {
    "duration": 10,
    "start_time": "2024-05-25T18:39:37.770Z"
   },
   {
    "duration": 18,
    "start_time": "2024-05-25T18:39:43.110Z"
   },
   {
    "duration": 22,
    "start_time": "2024-05-25T18:39:47.418Z"
   },
   {
    "duration": 13,
    "start_time": "2024-05-25T18:39:51.374Z"
   },
   {
    "duration": 23,
    "start_time": "2024-05-25T18:39:57.980Z"
   },
   {
    "duration": 13,
    "start_time": "2024-05-25T18:40:02.352Z"
   },
   {
    "duration": 38,
    "start_time": "2024-05-25T18:40:09.723Z"
   },
   {
    "duration": 37,
    "start_time": "2024-05-25T18:40:16.138Z"
   },
   {
    "duration": 26,
    "start_time": "2024-05-25T18:40:21.939Z"
   },
   {
    "duration": 31,
    "start_time": "2024-05-25T18:40:24.768Z"
   },
   {
    "duration": 27,
    "start_time": "2024-05-25T18:40:29.380Z"
   },
   {
    "duration": 104,
    "start_time": "2024-05-25T18:40:36.381Z"
   },
   {
    "duration": 10,
    "start_time": "2024-05-25T18:55:15.278Z"
   },
   {
    "duration": 396,
    "start_time": "2024-05-25T19:35:38.981Z"
   },
   {
    "duration": 130,
    "start_time": "2024-05-25T19:35:57.207Z"
   },
   {
    "duration": 31,
    "start_time": "2024-05-25T19:36:09.280Z"
   },
   {
    "duration": 32,
    "start_time": "2024-05-25T19:36:18.034Z"
   },
   {
    "duration": 15,
    "start_time": "2024-05-25T19:36:32.170Z"
   },
   {
    "duration": 22,
    "start_time": "2024-05-25T19:37:39.074Z"
   },
   {
    "duration": 127,
    "start_time": "2024-05-25T19:37:47.933Z"
   },
   {
    "duration": 11,
    "start_time": "2024-05-25T19:37:52.380Z"
   },
   {
    "duration": 8,
    "start_time": "2024-05-25T19:38:32.923Z"
   },
   {
    "duration": 13,
    "start_time": "2024-05-25T19:42:37.147Z"
   },
   {
    "duration": 27,
    "start_time": "2024-05-25T19:47:39.223Z"
   },
   {
    "duration": 12,
    "start_time": "2024-05-25T19:48:15.827Z"
   },
   {
    "duration": 10,
    "start_time": "2024-05-25T19:54:40.591Z"
   },
   {
    "duration": 9,
    "start_time": "2024-05-25T19:58:24.582Z"
   },
   {
    "duration": 9,
    "start_time": "2024-05-25T19:59:52.116Z"
   },
   {
    "duration": 8,
    "start_time": "2024-05-25T20:01:28.791Z"
   },
   {
    "duration": 9,
    "start_time": "2024-05-25T20:01:51.043Z"
   },
   {
    "duration": 10,
    "start_time": "2024-05-25T20:03:25.245Z"
   },
   {
    "duration": 7,
    "start_time": "2024-05-25T20:17:43.771Z"
   },
   {
    "duration": 41,
    "start_time": "2024-05-25T20:18:04.667Z"
   },
   {
    "duration": 37,
    "start_time": "2024-05-25T20:18:07.857Z"
   },
   {
    "duration": 38,
    "start_time": "2024-05-25T20:18:30.385Z"
   },
   {
    "duration": 23,
    "start_time": "2024-05-25T20:18:51.583Z"
   },
   {
    "duration": 95,
    "start_time": "2024-05-25T20:18:56.783Z"
   },
   {
    "duration": 11,
    "start_time": "2024-05-25T20:19:05.151Z"
   },
   {
    "duration": 25,
    "start_time": "2024-05-25T20:23:45.474Z"
   },
   {
    "duration": 8,
    "start_time": "2024-05-25T20:23:54.382Z"
   },
   {
    "duration": 27,
    "start_time": "2024-05-25T20:24:56.104Z"
   },
   {
    "duration": 5538,
    "start_time": "2024-05-25T20:56:31.526Z"
   },
   {
    "duration": 2826,
    "start_time": "2024-05-25T21:00:26.427Z"
   },
   {
    "duration": 3557,
    "start_time": "2024-05-25T21:03:30.066Z"
   },
   {
    "duration": 5033,
    "start_time": "2024-05-26T01:50:07.309Z"
   },
   {
    "duration": 405,
    "start_time": "2024-05-26T01:50:16.266Z"
   },
   {
    "duration": 17,
    "start_time": "2024-05-26T01:50:20.777Z"
   },
   {
    "duration": 18,
    "start_time": "2024-05-26T01:50:26.559Z"
   },
   {
    "duration": 18,
    "start_time": "2024-05-26T01:50:32.459Z"
   },
   {
    "duration": 15,
    "start_time": "2024-05-26T01:50:40.343Z"
   },
   {
    "duration": 11,
    "start_time": "2024-05-26T01:50:48.696Z"
   },
   {
    "duration": 10,
    "start_time": "2024-05-26T01:51:03.132Z"
   },
   {
    "duration": 27,
    "start_time": "2024-05-26T01:51:07.987Z"
   },
   {
    "duration": 13,
    "start_time": "2024-05-26T01:51:11.292Z"
   },
   {
    "duration": 7,
    "start_time": "2024-05-26T01:54:16.824Z"
   },
   {
    "duration": 31,
    "start_time": "2024-05-26T01:54:22.124Z"
   },
   {
    "duration": 22,
    "start_time": "2024-05-26T01:54:25.976Z"
   },
   {
    "duration": 11,
    "start_time": "2024-05-26T01:54:28.746Z"
   },
   {
    "duration": 19,
    "start_time": "2024-05-26T01:54:39.925Z"
   },
   {
    "duration": 22,
    "start_time": "2024-05-26T01:54:44.223Z"
   },
   {
    "duration": 18,
    "start_time": "2024-05-26T01:54:55.499Z"
   },
   {
    "duration": 24,
    "start_time": "2024-05-26T01:55:07.263Z"
   },
   {
    "duration": 11,
    "start_time": "2024-05-26T01:55:11.169Z"
   },
   {
    "duration": 39,
    "start_time": "2024-05-26T01:55:17.418Z"
   },
   {
    "duration": 39,
    "start_time": "2024-05-26T01:55:21.496Z"
   },
   {
    "duration": 26,
    "start_time": "2024-05-26T01:55:22.970Z"
   },
   {
    "duration": 29,
    "start_time": "2024-05-26T01:55:26.233Z"
   },
   {
    "duration": 27,
    "start_time": "2024-05-26T01:55:30.018Z"
   },
   {
    "duration": 106,
    "start_time": "2024-05-26T01:55:34.799Z"
   },
   {
    "duration": 19,
    "start_time": "2024-05-26T01:55:38.582Z"
   },
   {
    "duration": 10,
    "start_time": "2024-05-26T01:55:42.152Z"
   },
   {
    "duration": 11,
    "start_time": "2024-05-26T01:55:45.071Z"
   },
   {
    "duration": 11,
    "start_time": "2024-05-26T01:55:47.105Z"
   },
   {
    "duration": 15,
    "start_time": "2024-05-26T01:55:49.861Z"
   },
   {
    "duration": 11,
    "start_time": "2024-05-26T01:55:53.068Z"
   },
   {
    "duration": 3200,
    "start_time": "2024-05-26T01:56:24.837Z"
   },
   {
    "duration": 3186,
    "start_time": "2024-05-26T01:56:52.605Z"
   },
   {
    "duration": 2990,
    "start_time": "2024-05-26T01:57:39.799Z"
   },
   {
    "duration": 12,
    "start_time": "2024-05-26T02:01:04.598Z"
   },
   {
    "duration": 2800,
    "start_time": "2024-05-26T02:01:49.325Z"
   },
   {
    "duration": 2941,
    "start_time": "2024-05-26T02:02:26.458Z"
   },
   {
    "duration": 47,
    "start_time": "2024-05-26T02:11:24.007Z"
   },
   {
    "duration": 3091,
    "start_time": "2024-05-26T02:12:19.598Z"
   },
   {
    "duration": 481,
    "start_time": "2024-05-26T02:21:57.507Z"
   },
   {
    "duration": 1157,
    "start_time": "2024-05-26T02:22:54.161Z"
   },
   {
    "duration": 321,
    "start_time": "2024-05-26T02:23:27.726Z"
   },
   {
    "duration": 561,
    "start_time": "2024-05-26T02:23:52.041Z"
   },
   {
    "duration": 595,
    "start_time": "2024-05-26T02:24:22.989Z"
   },
   {
    "duration": 4802,
    "start_time": "2024-05-28T16:09:59.099Z"
   },
   {
    "duration": 409,
    "start_time": "2024-05-28T16:10:07.645Z"
   },
   {
    "duration": 24,
    "start_time": "2024-05-28T16:10:12.427Z"
   },
   {
    "duration": 15,
    "start_time": "2024-05-28T16:10:15.567Z"
   },
   {
    "duration": 30,
    "start_time": "2024-05-28T16:10:21.326Z"
   },
   {
    "duration": 15,
    "start_time": "2024-05-28T16:10:24.073Z"
   },
   {
    "duration": 11,
    "start_time": "2024-05-28T16:10:28.684Z"
   },
   {
    "duration": 8,
    "start_time": "2024-05-28T16:10:32.942Z"
   },
   {
    "duration": 26,
    "start_time": "2024-05-28T16:10:36.810Z"
   },
   {
    "duration": 8,
    "start_time": "2024-05-28T16:10:42.437Z"
   },
   {
    "duration": 32,
    "start_time": "2024-05-28T16:10:47.235Z"
   },
   {
    "duration": 18,
    "start_time": "2024-05-28T16:10:51.531Z"
   },
   {
    "duration": 10,
    "start_time": "2024-05-28T16:10:54.964Z"
   },
   {
    "duration": 18,
    "start_time": "2024-05-28T16:10:59.904Z"
   },
   {
    "duration": 24,
    "start_time": "2024-05-28T16:11:04.142Z"
   },
   {
    "duration": 17,
    "start_time": "2024-05-28T16:11:10.296Z"
   },
   {
    "duration": 23,
    "start_time": "2024-05-28T16:11:15.173Z"
   },
   {
    "duration": 12,
    "start_time": "2024-05-28T16:11:20.762Z"
   },
   {
    "duration": 36,
    "start_time": "2024-05-28T16:11:24.976Z"
   },
   {
    "duration": 38,
    "start_time": "2024-05-28T16:11:29.138Z"
   },
   {
    "duration": 28,
    "start_time": "2024-05-28T16:11:33.822Z"
   },
   {
    "duration": 31,
    "start_time": "2024-05-28T16:11:37.544Z"
   },
   {
    "duration": 25,
    "start_time": "2024-05-28T16:11:41.333Z"
   },
   {
    "duration": 99,
    "start_time": "2024-05-28T16:11:45.112Z"
   },
   {
    "duration": 20,
    "start_time": "2024-05-28T16:11:49.367Z"
   },
   {
    "duration": 8,
    "start_time": "2024-05-28T16:11:53.586Z"
   },
   {
    "duration": 9,
    "start_time": "2024-05-28T16:11:56.980Z"
   },
   {
    "duration": 9,
    "start_time": "2024-05-28T16:12:01.294Z"
   },
   {
    "duration": 12,
    "start_time": "2024-05-28T16:12:04.375Z"
   },
   {
    "duration": 9,
    "start_time": "2024-05-28T16:12:08.165Z"
   },
   {
    "duration": 408,
    "start_time": "2024-05-28T16:22:09.222Z"
   },
   {
    "duration": 1415,
    "start_time": "2024-05-28T16:25:29.794Z"
   },
   {
    "duration": 292,
    "start_time": "2024-05-28T16:25:37.977Z"
   },
   {
    "duration": 380,
    "start_time": "2024-05-28T16:25:56.830Z"
   },
   {
    "duration": 425,
    "start_time": "2024-05-28T16:26:10.793Z"
   },
   {
    "duration": 14,
    "start_time": "2024-05-28T16:38:03.465Z"
   },
   {
    "duration": 17,
    "start_time": "2024-05-28T16:38:17.470Z"
   },
   {
    "duration": 297,
    "start_time": "2024-05-28T16:39:18.622Z"
   },
   {
    "duration": 276,
    "start_time": "2024-05-28T16:46:27.314Z"
   },
   {
    "duration": 239,
    "start_time": "2024-05-28T16:51:37.114Z"
   },
   {
    "duration": 359,
    "start_time": "2024-05-28T16:51:52.666Z"
   },
   {
    "duration": 387,
    "start_time": "2024-05-28T16:53:23.246Z"
   },
   {
    "duration": 402,
    "start_time": "2024-05-28T16:53:36.260Z"
   },
   {
    "duration": 408,
    "start_time": "2024-05-28T16:54:27.036Z"
   },
   {
    "duration": 33,
    "start_time": "2024-05-28T17:18:46.733Z"
   },
   {
    "duration": 177,
    "start_time": "2024-05-28T17:20:27.463Z"
   },
   {
    "duration": 443,
    "start_time": "2024-05-28T17:24:54.766Z"
   },
   {
    "duration": 356,
    "start_time": "2024-05-28T17:25:21.146Z"
   },
   {
    "duration": 375,
    "start_time": "2024-05-28T17:28:24.393Z"
   },
   {
    "duration": 364,
    "start_time": "2024-05-28T17:29:22.141Z"
   },
   {
    "duration": 422,
    "start_time": "2024-05-28T17:39:01.843Z"
   },
   {
    "duration": 58,
    "start_time": "2024-05-28T17:39:45.269Z"
   },
   {
    "duration": 434,
    "start_time": "2024-05-28T17:44:20.998Z"
   },
   {
    "duration": 400,
    "start_time": "2024-05-28T17:44:56.301Z"
   },
   {
    "duration": 425,
    "start_time": "2024-05-28T17:48:52.729Z"
   },
   {
    "duration": 8,
    "start_time": "2024-05-28T18:00:49.857Z"
   },
   {
    "duration": 5,
    "start_time": "2024-05-28T18:00:57.857Z"
   },
   {
    "duration": 117,
    "start_time": "2024-05-28T18:04:05.502Z"
   },
   {
    "duration": 149,
    "start_time": "2024-05-28T18:08:07.381Z"
   },
   {
    "duration": 4994,
    "start_time": "2024-05-28T19:38:21.351Z"
   },
   {
    "duration": 389,
    "start_time": "2024-05-28T19:38:27.084Z"
   },
   {
    "duration": 16,
    "start_time": "2024-05-28T19:38:31.179Z"
   },
   {
    "duration": 16,
    "start_time": "2024-05-28T19:38:34.767Z"
   },
   {
    "duration": 15,
    "start_time": "2024-05-28T19:38:39.888Z"
   },
   {
    "duration": 15,
    "start_time": "2024-05-28T19:38:46.996Z"
   },
   {
    "duration": 10,
    "start_time": "2024-05-28T19:38:54.831Z"
   },
   {
    "duration": 9,
    "start_time": "2024-05-28T19:38:59.802Z"
   },
   {
    "duration": 25,
    "start_time": "2024-05-28T19:39:04.628Z"
   },
   {
    "duration": 13,
    "start_time": "2024-05-28T19:39:07.412Z"
   },
   {
    "duration": 9,
    "start_time": "2024-05-28T19:39:12.230Z"
   },
   {
    "duration": 30,
    "start_time": "2024-05-28T19:39:27.022Z"
   },
   {
    "duration": 21,
    "start_time": "2024-05-28T19:39:31.695Z"
   },
   {
    "duration": 12,
    "start_time": "2024-05-28T19:39:34.952Z"
   },
   {
    "duration": 19,
    "start_time": "2024-05-28T19:39:39.677Z"
   },
   {
    "duration": 27,
    "start_time": "2024-05-28T19:39:44.495Z"
   },
   {
    "duration": 14,
    "start_time": "2024-05-28T19:39:49.107Z"
   },
   {
    "duration": 29,
    "start_time": "2024-05-28T19:39:55.075Z"
   },
   {
    "duration": 12,
    "start_time": "2024-05-28T19:40:00.006Z"
   },
   {
    "duration": 46,
    "start_time": "2024-05-28T19:40:04.569Z"
   },
   {
    "duration": 39,
    "start_time": "2024-05-28T19:40:10.085Z"
   },
   {
    "duration": 30,
    "start_time": "2024-05-28T19:40:14.435Z"
   },
   {
    "duration": 31,
    "start_time": "2024-05-28T19:40:20.434Z"
   },
   {
    "duration": 25,
    "start_time": "2024-05-28T19:40:26.594Z"
   },
   {
    "duration": 112,
    "start_time": "2024-05-28T19:40:29.320Z"
   },
   {
    "duration": 17,
    "start_time": "2024-05-28T19:40:33.591Z"
   },
   {
    "duration": 10,
    "start_time": "2024-05-28T19:40:36.997Z"
   },
   {
    "duration": 9,
    "start_time": "2024-05-28T19:40:41.202Z"
   },
   {
    "duration": 9,
    "start_time": "2024-05-28T19:40:45.329Z"
   },
   {
    "duration": 16,
    "start_time": "2024-05-28T19:40:45.456Z"
   },
   {
    "duration": 12,
    "start_time": "2024-05-28T19:40:45.619Z"
   },
   {
    "duration": 11,
    "start_time": "2024-05-28T19:40:59.931Z"
   },
   {
    "duration": 12,
    "start_time": "2024-05-28T19:41:02.717Z"
   },
   {
    "duration": 10,
    "start_time": "2024-05-28T19:41:05.640Z"
   },
   {
    "duration": 9,
    "start_time": "2024-05-28T19:41:08.948Z"
   },
   {
    "duration": 8,
    "start_time": "2024-05-28T19:41:11.018Z"
   },
   {
    "duration": 14,
    "start_time": "2024-05-28T19:41:14.447Z"
   },
   {
    "duration": 420,
    "start_time": "2024-05-28T19:42:01.579Z"
   },
   {
    "duration": 450,
    "start_time": "2024-05-28T19:42:08.643Z"
   },
   {
    "duration": 6,
    "start_time": "2024-05-28T19:42:13.796Z"
   },
   {
    "duration": 225,
    "start_time": "2024-05-28T19:42:15.348Z"
   },
   {
    "duration": 381,
    "start_time": "2024-05-28T19:47:52.512Z"
   },
   {
    "duration": 390,
    "start_time": "2024-05-28T19:48:10.148Z"
   },
   {
    "duration": 344,
    "start_time": "2024-05-28T19:48:30.534Z"
   },
   {
    "duration": 3,
    "start_time": "2024-05-28T19:48:30.883Z"
   },
   {
    "duration": 5,
    "start_time": "2024-05-28T19:51:29.747Z"
   },
   {
    "duration": 164,
    "start_time": "2024-05-28T19:53:23.907Z"
   },
   {
    "duration": 1558,
    "start_time": "2024-05-28T19:56:42.818Z"
   },
   {
    "duration": 248,
    "start_time": "2024-05-28T19:58:28.727Z"
   },
   {
    "duration": 31,
    "start_time": "2024-05-28T19:59:49.277Z"
   },
   {
    "duration": 24,
    "start_time": "2024-05-28T19:59:54.853Z"
   },
   {
    "duration": 339,
    "start_time": "2024-05-28T20:01:28.703Z"
   },
   {
    "duration": 304,
    "start_time": "2024-05-28T20:01:41.883Z"
   },
   {
    "duration": 30,
    "start_time": "2024-05-28T20:02:53.635Z"
   },
   {
    "duration": 28,
    "start_time": "2024-05-28T20:03:10.645Z"
   },
   {
    "duration": 6,
    "start_time": "2024-05-28T20:03:21.592Z"
   },
   {
    "duration": 156,
    "start_time": "2024-05-28T20:04:21.736Z"
   },
   {
    "duration": 381,
    "start_time": "2024-05-28T20:05:42.676Z"
   },
   {
    "duration": 179,
    "start_time": "2024-05-28T20:07:12.339Z"
   },
   {
    "duration": 151,
    "start_time": "2024-05-28T20:07:24.157Z"
   },
   {
    "duration": 153,
    "start_time": "2024-05-28T20:07:38.866Z"
   },
   {
    "duration": 4946,
    "start_time": "2024-05-29T00:26:04.284Z"
   },
   {
    "duration": 419,
    "start_time": "2024-05-29T00:26:13.867Z"
   },
   {
    "duration": 16,
    "start_time": "2024-05-29T00:26:18.462Z"
   },
   {
    "duration": 20,
    "start_time": "2024-05-29T00:26:23.758Z"
   },
   {
    "duration": 16,
    "start_time": "2024-05-29T00:26:30.592Z"
   },
   {
    "duration": 15,
    "start_time": "2024-05-29T00:26:37.134Z"
   },
   {
    "duration": 9,
    "start_time": "2024-05-29T00:26:44.658Z"
   },
   {
    "duration": 9,
    "start_time": "2024-05-29T00:26:54.306Z"
   },
   {
    "duration": 26,
    "start_time": "2024-05-29T00:27:04.135Z"
   },
   {
    "duration": 12,
    "start_time": "2024-05-29T00:27:17.186Z"
   },
   {
    "duration": 8,
    "start_time": "2024-05-29T00:27:22.302Z"
   },
   {
    "duration": 30,
    "start_time": "2024-05-29T00:27:29.185Z"
   },
   {
    "duration": 19,
    "start_time": "2024-05-29T00:27:34.177Z"
   },
   {
    "duration": 11,
    "start_time": "2024-05-29T00:27:37.084Z"
   },
   {
    "duration": 19,
    "start_time": "2024-05-29T00:27:43.167Z"
   },
   {
    "duration": 23,
    "start_time": "2024-05-29T00:27:47.037Z"
   },
   {
    "duration": 14,
    "start_time": "2024-05-29T00:27:52.009Z"
   },
   {
    "duration": 24,
    "start_time": "2024-05-29T00:27:58.885Z"
   },
   {
    "duration": 11,
    "start_time": "2024-05-29T00:28:05.569Z"
   },
   {
    "duration": 39,
    "start_time": "2024-05-29T00:28:10.826Z"
   },
   {
    "duration": 37,
    "start_time": "2024-05-29T00:28:14.963Z"
   },
   {
    "duration": 27,
    "start_time": "2024-05-29T00:28:18.536Z"
   },
   {
    "duration": 33,
    "start_time": "2024-05-29T00:28:23.108Z"
   },
   {
    "duration": 23,
    "start_time": "2024-05-29T00:28:27.749Z"
   },
   {
    "duration": 97,
    "start_time": "2024-05-29T00:28:32.399Z"
   },
   {
    "duration": 17,
    "start_time": "2024-05-29T00:28:36.945Z"
   },
   {
    "duration": 9,
    "start_time": "2024-05-29T00:28:44.794Z"
   },
   {
    "duration": 9,
    "start_time": "2024-05-29T00:28:49.837Z"
   },
   {
    "duration": 9,
    "start_time": "2024-05-29T00:28:54.639Z"
   },
   {
    "duration": 405,
    "start_time": "2024-05-29T00:29:31.363Z"
   },
   {
    "duration": 433,
    "start_time": "2024-05-29T00:33:51.239Z"
   },
   {
    "duration": 6,
    "start_time": "2024-05-29T00:33:59.693Z"
   },
   {
    "duration": 182,
    "start_time": "2024-05-29T00:34:02.095Z"
   },
   {
    "duration": 331,
    "start_time": "2024-05-29T00:34:07.375Z"
   },
   {
    "duration": 6,
    "start_time": "2024-05-29T00:34:12.158Z"
   },
   {
    "duration": 149,
    "start_time": "2024-05-29T00:34:17.191Z"
   },
   {
    "duration": 330,
    "start_time": "2024-05-29T00:34:38.061Z"
   },
   {
    "duration": 7,
    "start_time": "2024-05-29T00:34:45.254Z"
   },
   {
    "duration": 225,
    "start_time": "2024-05-29T00:34:45.596Z"
   },
   {
    "duration": 326,
    "start_time": "2024-05-29T00:54:26.098Z"
   },
   {
    "duration": 411,
    "start_time": "2024-05-29T00:58:53.572Z"
   },
   {
    "duration": 32,
    "start_time": "2024-05-29T00:59:18.461Z"
   },
   {
    "duration": 29,
    "start_time": "2024-05-29T01:00:21.360Z"
   },
   {
    "duration": 15,
    "start_time": "2024-05-29T01:06:24.415Z"
   },
   {
    "duration": 313,
    "start_time": "2024-05-29T01:06:40.323Z"
   },
   {
    "duration": 264,
    "start_time": "2024-05-29T01:07:17.648Z"
   },
   {
    "duration": 29,
    "start_time": "2024-05-29T01:10:45.867Z"
   },
   {
    "duration": 10,
    "start_time": "2024-05-29T01:11:05.096Z"
   },
   {
    "duration": 11,
    "start_time": "2024-05-29T01:11:06.689Z"
   },
   {
    "duration": 10,
    "start_time": "2024-05-29T01:11:08.133Z"
   },
   {
    "duration": 9,
    "start_time": "2024-05-29T01:11:09.454Z"
   },
   {
    "duration": 10,
    "start_time": "2024-05-29T01:11:12.287Z"
   },
   {
    "duration": 9,
    "start_time": "2024-05-29T01:11:14.407Z"
   },
   {
    "duration": 285,
    "start_time": "2024-05-29T01:11:21.362Z"
   },
   {
    "duration": 281,
    "start_time": "2024-05-29T01:12:05.519Z"
   },
   {
    "duration": 270,
    "start_time": "2024-05-29T01:13:04.520Z"
   },
   {
    "duration": 350,
    "start_time": "2024-05-29T01:13:37.130Z"
   },
   {
    "duration": 270,
    "start_time": "2024-05-29T01:14:18.863Z"
   },
   {
    "duration": 269,
    "start_time": "2024-05-29T01:14:56.801Z"
   },
   {
    "duration": 29,
    "start_time": "2024-05-29T01:44:43.160Z"
   },
   {
    "duration": 4971,
    "start_time": "2024-05-29T16:23:00.004Z"
   },
   {
    "duration": 325,
    "start_time": "2024-05-29T16:23:10.685Z"
   },
   {
    "duration": 16,
    "start_time": "2024-05-29T16:23:15.642Z"
   },
   {
    "duration": 16,
    "start_time": "2024-05-29T16:23:19.535Z"
   },
   {
    "duration": 13,
    "start_time": "2024-05-29T16:26:00.858Z"
   },
   {
    "duration": 15,
    "start_time": "2024-05-29T16:26:08.784Z"
   },
   {
    "duration": 8,
    "start_time": "2024-05-29T16:26:13.475Z"
   },
   {
    "duration": 10,
    "start_time": "2024-05-29T16:26:18.860Z"
   },
   {
    "duration": 31,
    "start_time": "2024-05-29T16:26:23.178Z"
   },
   {
    "duration": 12,
    "start_time": "2024-05-29T16:26:26.283Z"
   },
   {
    "duration": 8,
    "start_time": "2024-05-29T16:26:31.280Z"
   },
   {
    "duration": 35,
    "start_time": "2024-05-29T16:26:36.325Z"
   },
   {
    "duration": 21,
    "start_time": "2024-05-29T16:26:41.720Z"
   },
   {
    "duration": 10,
    "start_time": "2024-05-29T16:26:45.299Z"
   },
   {
    "duration": 18,
    "start_time": "2024-05-29T16:27:02.610Z"
   },
   {
    "duration": 22,
    "start_time": "2024-05-29T16:27:06.501Z"
   },
   {
    "duration": 13,
    "start_time": "2024-05-29T16:27:09.774Z"
   },
   {
    "duration": 23,
    "start_time": "2024-05-29T16:27:22.485Z"
   },
   {
    "duration": 11,
    "start_time": "2024-05-29T16:27:27.095Z"
   },
   {
    "duration": 37,
    "start_time": "2024-05-29T16:27:31.090Z"
   },
   {
    "duration": 37,
    "start_time": "2024-05-29T16:27:34.206Z"
   },
   {
    "duration": 25,
    "start_time": "2024-05-29T16:27:37.465Z"
   },
   {
    "duration": 30,
    "start_time": "2024-05-29T16:27:40.599Z"
   },
   {
    "duration": 22,
    "start_time": "2024-05-29T16:27:45.468Z"
   },
   {
    "duration": 100,
    "start_time": "2024-05-29T16:27:49.457Z"
   },
   {
    "duration": 16,
    "start_time": "2024-05-29T16:27:55.802Z"
   },
   {
    "duration": 10,
    "start_time": "2024-05-29T16:27:58.869Z"
   },
   {
    "duration": 8,
    "start_time": "2024-05-29T16:28:02.694Z"
   },
   {
    "duration": 9,
    "start_time": "2024-05-29T16:28:06.608Z"
   },
   {
    "duration": 9,
    "start_time": "2024-05-29T16:28:09.751Z"
   },
   {
    "duration": 10,
    "start_time": "2024-05-29T16:28:14.969Z"
   },
   {
    "duration": 9,
    "start_time": "2024-05-29T16:34:08.483Z"
   },
   {
    "duration": 9,
    "start_time": "2024-05-29T16:34:09.896Z"
   },
   {
    "duration": 11,
    "start_time": "2024-05-29T16:34:11.191Z"
   },
   {
    "duration": 9,
    "start_time": "2024-05-29T16:34:12.737Z"
   },
   {
    "duration": 10,
    "start_time": "2024-05-29T16:34:13.805Z"
   },
   {
    "duration": 10,
    "start_time": "2024-05-29T16:34:17.661Z"
   },
   {
    "duration": 405,
    "start_time": "2024-05-29T16:34:23.265Z"
   },
   {
    "duration": 395,
    "start_time": "2024-05-29T16:34:27.787Z"
   },
   {
    "duration": 6,
    "start_time": "2024-05-29T16:34:37.465Z"
   },
   {
    "duration": 167,
    "start_time": "2024-05-29T16:34:40.737Z"
   },
   {
    "duration": 343,
    "start_time": "2024-05-29T16:34:45.911Z"
   },
   {
    "duration": 6,
    "start_time": "2024-05-29T16:34:52.668Z"
   },
   {
    "duration": 247,
    "start_time": "2024-05-29T16:34:55.835Z"
   },
   {
    "duration": 317,
    "start_time": "2024-05-29T16:35:01.150Z"
   },
   {
    "duration": 6,
    "start_time": "2024-05-29T16:35:05.462Z"
   },
   {
    "duration": 149,
    "start_time": "2024-05-29T16:35:10.282Z"
   },
   {
    "duration": 256,
    "start_time": "2024-05-29T16:35:17.196Z"
   },
   {
    "duration": 290,
    "start_time": "2024-05-29T16:35:25.763Z"
   },
   {
    "duration": 8,
    "start_time": "2024-05-29T16:38:05.267Z"
   },
   {
    "duration": 7,
    "start_time": "2024-05-29T16:39:07.599Z"
   },
   {
    "duration": 7,
    "start_time": "2024-05-29T16:39:28.062Z"
   },
   {
    "duration": 6,
    "start_time": "2024-05-29T16:45:36.676Z"
   },
   {
    "duration": 401,
    "start_time": "2024-05-29T16:54:37.394Z"
   },
   {
    "duration": 998,
    "start_time": "2024-05-29T16:55:01.585Z"
   },
   {
    "duration": 6,
    "start_time": "2024-05-29T16:59:29.076Z"
   },
   {
    "duration": 4854,
    "start_time": "2024-05-29T17:20:06.362Z"
   },
   {
    "duration": 350,
    "start_time": "2024-05-29T17:20:16.430Z"
   },
   {
    "duration": 16,
    "start_time": "2024-05-29T17:20:21.423Z"
   },
   {
    "duration": 17,
    "start_time": "2024-05-29T17:20:25.700Z"
   },
   {
    "duration": 15,
    "start_time": "2024-05-29T17:20:33.550Z"
   },
   {
    "duration": 19,
    "start_time": "2024-05-29T17:20:35.623Z"
   },
   {
    "duration": 10,
    "start_time": "2024-05-29T17:20:42.115Z"
   },
   {
    "duration": 8,
    "start_time": "2024-05-29T17:20:48.520Z"
   },
   {
    "duration": 24,
    "start_time": "2024-05-29T17:20:52.360Z"
   },
   {
    "duration": 7,
    "start_time": "2024-05-29T17:20:57.414Z"
   },
   {
    "duration": 31,
    "start_time": "2024-05-29T17:21:02.209Z"
   },
   {
    "duration": 25,
    "start_time": "2024-05-29T17:21:07.146Z"
   },
   {
    "duration": 11,
    "start_time": "2024-05-29T17:21:13.865Z"
   },
   {
    "duration": 25,
    "start_time": "2024-05-29T17:21:30.376Z"
   },
   {
    "duration": 22,
    "start_time": "2024-05-29T17:21:36.139Z"
   },
   {
    "duration": 15,
    "start_time": "2024-05-29T17:21:38.590Z"
   },
   {
    "duration": 25,
    "start_time": "2024-05-29T17:21:43.962Z"
   },
   {
    "duration": 14,
    "start_time": "2024-05-29T17:21:48.809Z"
   },
   {
    "duration": 44,
    "start_time": "2024-05-29T17:21:53.188Z"
   },
   {
    "duration": 36,
    "start_time": "2024-05-29T17:22:05.294Z"
   },
   {
    "duration": 29,
    "start_time": "2024-05-29T17:22:11.366Z"
   },
   {
    "duration": 29,
    "start_time": "2024-05-29T17:22:15.332Z"
   },
   {
    "duration": 26,
    "start_time": "2024-05-29T17:22:22.326Z"
   },
   {
    "duration": 138,
    "start_time": "2024-05-29T17:22:25.996Z"
   },
   {
    "duration": 26,
    "start_time": "2024-05-29T17:22:31.937Z"
   },
   {
    "duration": 11,
    "start_time": "2024-05-29T17:22:34.919Z"
   },
   {
    "duration": 9,
    "start_time": "2024-05-29T17:22:39.458Z"
   },
   {
    "duration": 13,
    "start_time": "2024-05-29T17:23:01.232Z"
   },
   {
    "duration": 10,
    "start_time": "2024-05-29T17:23:04.396Z"
   },
   {
    "duration": 9,
    "start_time": "2024-05-29T17:23:07.995Z"
   },
   {
    "duration": 412,
    "start_time": "2024-05-29T17:23:12.389Z"
   },
   {
    "duration": 413,
    "start_time": "2024-05-29T17:23:16.524Z"
   },
   {
    "duration": 6,
    "start_time": "2024-05-29T17:23:20.745Z"
   },
   {
    "duration": 157,
    "start_time": "2024-05-29T17:23:22.961Z"
   },
   {
    "duration": 348,
    "start_time": "2024-05-29T17:23:28.890Z"
   },
   {
    "duration": 6,
    "start_time": "2024-05-29T17:23:34.466Z"
   },
   {
    "duration": 215,
    "start_time": "2024-05-29T17:23:35.792Z"
   },
   {
    "duration": 457,
    "start_time": "2024-05-29T17:23:40.720Z"
   },
   {
    "duration": 5,
    "start_time": "2024-05-29T17:23:52.975Z"
   },
   {
    "duration": 153,
    "start_time": "2024-05-29T17:23:56.082Z"
   },
   {
    "duration": 265,
    "start_time": "2024-05-29T17:24:12.042Z"
   },
   {
    "duration": 264,
    "start_time": "2024-05-29T17:24:15.094Z"
   },
   {
    "duration": 300,
    "start_time": "2024-05-29T17:24:18.945Z"
   },
   {
    "duration": 8,
    "start_time": "2024-05-29T17:24:33.253Z"
   },
   {
    "duration": 8,
    "start_time": "2024-05-29T17:42:48.338Z"
   },
   {
    "duration": 12,
    "start_time": "2024-05-29T18:16:38.030Z"
   },
   {
    "duration": 15,
    "start_time": "2024-05-29T18:17:39.778Z"
   },
   {
    "duration": 7,
    "start_time": "2024-05-29T18:22:14.419Z"
   },
   {
    "duration": 8,
    "start_time": "2024-05-29T18:22:56.588Z"
   },
   {
    "duration": 6,
    "start_time": "2024-05-29T18:23:27.993Z"
   },
   {
    "duration": 12,
    "start_time": "2024-05-29T18:30:18.922Z"
   },
   {
    "duration": 1347,
    "start_time": "2024-05-29T18:32:37.153Z"
   },
   {
    "duration": 37,
    "start_time": "2024-05-29T18:39:14.378Z"
   },
   {
    "duration": 20,
    "start_time": "2024-05-29T18:39:47.078Z"
   },
   {
    "duration": 17,
    "start_time": "2024-05-29T19:14:24.293Z"
   },
   {
    "duration": 21,
    "start_time": "2024-05-29T19:14:44.373Z"
   },
   {
    "duration": 29,
    "start_time": "2024-05-29T19:21:47.436Z"
   },
   {
    "duration": 20,
    "start_time": "2024-05-29T19:33:53.557Z"
   },
   {
    "duration": 869,
    "start_time": "2024-05-29T19:44:41.858Z"
   },
   {
    "duration": 11,
    "start_time": "2024-05-29T19:45:30.450Z"
   },
   {
    "duration": 34,
    "start_time": "2024-05-29T20:10:01.928Z"
   },
   {
    "duration": 57,
    "start_time": "2024-05-29T20:10:21.364Z"
   },
   {
    "duration": 167,
    "start_time": "2024-05-29T20:11:03.521Z"
   },
   {
    "duration": 50,
    "start_time": "2024-05-29T20:11:17.722Z"
   },
   {
    "duration": 53,
    "start_time": "2024-05-29T20:25:23.456Z"
   },
   {
    "duration": 53,
    "start_time": "2024-05-29T20:42:59.442Z"
   },
   {
    "duration": 24,
    "start_time": "2024-05-29T20:43:59.598Z"
   },
   {
    "duration": 22,
    "start_time": "2024-05-29T20:44:09.624Z"
   },
   {
    "duration": 9,
    "start_time": "2024-05-29T20:44:24.350Z"
   },
   {
    "duration": 13,
    "start_time": "2024-05-29T20:46:09.249Z"
   },
   {
    "duration": 6,
    "start_time": "2024-05-29T20:50:21.718Z"
   },
   {
    "duration": 24,
    "start_time": "2024-05-29T20:50:37.704Z"
   },
   {
    "duration": 23,
    "start_time": "2024-05-29T20:51:05.827Z"
   },
   {
    "duration": 51,
    "start_time": "2024-05-29T20:51:25.867Z"
   },
   {
    "duration": 23,
    "start_time": "2024-05-29T20:51:36.840Z"
   },
   {
    "duration": 15,
    "start_time": "2024-05-29T20:54:06.387Z"
   },
   {
    "duration": 14,
    "start_time": "2024-05-29T20:54:18.775Z"
   },
   {
    "duration": 15,
    "start_time": "2024-05-29T20:54:56.366Z"
   },
   {
    "duration": 13,
    "start_time": "2024-05-29T20:54:59.644Z"
   },
   {
    "duration": 54,
    "start_time": "2024-05-29T20:57:22.229Z"
   },
   {
    "duration": 15,
    "start_time": "2024-05-29T20:57:54.494Z"
   },
   {
    "duration": 13,
    "start_time": "2024-05-29T20:58:01.277Z"
   },
   {
    "duration": 181,
    "start_time": "2024-05-29T21:01:19.066Z"
   },
   {
    "duration": 97,
    "start_time": "2024-05-29T21:02:45.727Z"
   },
   {
    "duration": 4,
    "start_time": "2024-05-29T21:03:28.938Z"
   },
   {
    "duration": 54,
    "start_time": "2024-05-29T21:03:45.767Z"
   },
   {
    "duration": 15,
    "start_time": "2024-05-29T21:04:00.500Z"
   },
   {
    "duration": 13,
    "start_time": "2024-05-29T21:04:06.388Z"
   },
   {
    "duration": 5204,
    "start_time": "2024-05-29T22:32:35.859Z"
   },
   {
    "duration": 408,
    "start_time": "2024-05-29T22:32:45.353Z"
   },
   {
    "duration": 18,
    "start_time": "2024-05-29T22:32:49.196Z"
   },
   {
    "duration": 22,
    "start_time": "2024-05-29T22:32:53.104Z"
   },
   {
    "duration": 17,
    "start_time": "2024-05-29T22:32:58.122Z"
   },
   {
    "duration": 18,
    "start_time": "2024-05-29T22:33:21.845Z"
   },
   {
    "duration": 13,
    "start_time": "2024-05-29T22:33:28.736Z"
   },
   {
    "duration": 12,
    "start_time": "2024-05-29T22:33:34.033Z"
   },
   {
    "duration": 31,
    "start_time": "2024-05-29T22:33:37.498Z"
   },
   {
    "duration": 12,
    "start_time": "2024-05-29T22:33:40.846Z"
   },
   {
    "duration": 7,
    "start_time": "2024-05-29T22:33:44.977Z"
   },
   {
    "duration": 32,
    "start_time": "2024-05-29T22:33:48.737Z"
   },
   {
    "duration": 19,
    "start_time": "2024-05-29T22:33:52.183Z"
   },
   {
    "duration": 10,
    "start_time": "2024-05-29T22:33:54.852Z"
   },
   {
    "duration": 19,
    "start_time": "2024-05-29T22:34:00.202Z"
   },
   {
    "duration": 23,
    "start_time": "2024-05-29T22:34:04.414Z"
   },
   {
    "duration": 15,
    "start_time": "2024-05-29T22:34:09.144Z"
   },
   {
    "duration": 33,
    "start_time": "2024-05-29T22:34:14.499Z"
   },
   {
    "duration": 12,
    "start_time": "2024-05-29T22:34:19.577Z"
   },
   {
    "duration": 44,
    "start_time": "2024-05-29T22:34:34.649Z"
   },
   {
    "duration": 37,
    "start_time": "2024-05-29T22:34:38.660Z"
   },
   {
    "duration": 29,
    "start_time": "2024-05-29T22:34:40.302Z"
   },
   {
    "duration": 30,
    "start_time": "2024-05-29T22:34:45.349Z"
   },
   {
    "duration": 22,
    "start_time": "2024-05-29T22:34:50.329Z"
   },
   {
    "duration": 20,
    "start_time": "2024-05-29T22:34:52.941Z"
   },
   {
    "duration": 63,
    "start_time": "2024-05-29T22:34:57.775Z"
   },
   {
    "duration": 50,
    "start_time": "2024-05-29T22:35:00.286Z"
   },
   {
    "duration": 56,
    "start_time": "2024-05-29T22:35:01.427Z"
   },
   {
    "duration": 15,
    "start_time": "2024-05-29T22:35:04.760Z"
   },
   {
    "duration": 20,
    "start_time": "2024-05-29T22:35:08.543Z"
   },
   {
    "duration": 431,
    "start_time": "2024-05-29T22:35:47.044Z"
   },
   {
    "duration": 432,
    "start_time": "2024-05-29T22:37:21.954Z"
   },
   {
    "duration": 419,
    "start_time": "2024-05-29T22:38:56.970Z"
   },
   {
    "duration": 7,
    "start_time": "2024-05-29T22:39:04.616Z"
   },
   {
    "duration": 264,
    "start_time": "2024-05-29T22:39:05.671Z"
   },
   {
    "duration": 332,
    "start_time": "2024-05-29T22:39:15.442Z"
   },
   {
    "duration": 7,
    "start_time": "2024-05-29T22:39:19.092Z"
   },
   {
    "duration": 180,
    "start_time": "2024-05-29T22:39:20.585Z"
   },
   {
    "duration": 320,
    "start_time": "2024-05-29T22:39:24.772Z"
   },
   {
    "duration": 8,
    "start_time": "2024-05-29T22:39:29.110Z"
   },
   {
    "duration": 402,
    "start_time": "2024-05-29T22:39:51.088Z"
   },
   {
    "duration": 188,
    "start_time": "2024-05-29T22:46:46.242Z"
   },
   {
    "duration": 177,
    "start_time": "2024-05-29T22:48:58.369Z"
   },
   {
    "duration": 200,
    "start_time": "2024-05-29T22:49:22.800Z"
   },
   {
    "duration": 355,
    "start_time": "2024-05-29T22:51:36.235Z"
   },
   {
    "duration": 431,
    "start_time": "2024-05-29T22:52:23.024Z"
   },
   {
    "duration": 371,
    "start_time": "2024-05-29T23:04:21.247Z"
   },
   {
    "duration": 296,
    "start_time": "2024-05-29T23:04:43.487Z"
   },
   {
    "duration": 32,
    "start_time": "2024-05-29T23:09:37.045Z"
   },
   {
    "duration": 9,
    "start_time": "2024-05-29T23:09:43.072Z"
   },
   {
    "duration": 6,
    "start_time": "2024-05-29T23:09:47.563Z"
   },
   {
    "duration": 29,
    "start_time": "2024-05-29T23:11:28.016Z"
   },
   {
    "duration": 28,
    "start_time": "2024-05-29T23:12:36.279Z"
   },
   {
    "duration": 35,
    "start_time": "2024-05-29T23:12:45.532Z"
   },
   {
    "duration": 853,
    "start_time": "2024-05-29T23:15:48.485Z"
   },
   {
    "duration": 28,
    "start_time": "2024-05-29T23:22:57.218Z"
   },
   {
    "duration": 23,
    "start_time": "2024-05-29T23:23:14.499Z"
   },
   {
    "duration": 14,
    "start_time": "2024-05-30T14:05:54.026Z"
   },
   {
    "duration": 35,
    "start_time": "2024-05-30T16:39:38.903Z"
   },
   {
    "duration": 457,
    "start_time": "2024-05-30T16:39:46.655Z"
   },
   {
    "duration": 5127,
    "start_time": "2024-05-30T16:40:00.047Z"
   },
   {
    "duration": 412,
    "start_time": "2024-05-30T16:40:08.974Z"
   },
   {
    "duration": 15,
    "start_time": "2024-05-30T16:40:13.972Z"
   },
   {
    "duration": 22,
    "start_time": "2024-05-30T16:40:19.997Z"
   },
   {
    "duration": 19,
    "start_time": "2024-05-30T16:40:34.940Z"
   },
   {
    "duration": 16,
    "start_time": "2024-05-30T16:40:39.188Z"
   },
   {
    "duration": 9,
    "start_time": "2024-05-30T16:40:43.793Z"
   },
   {
    "duration": 5,
    "start_time": "2024-05-30T16:40:47.024Z"
   },
   {
    "duration": 121,
    "start_time": "2024-05-30T16:41:57.314Z"
   },
   {
    "duration": 6,
    "start_time": "2024-05-30T16:42:12.680Z"
   },
   {
    "duration": 6,
    "start_time": "2024-05-30T16:42:18.307Z"
   },
   {
    "duration": 5,
    "start_time": "2024-05-30T16:42:40.713Z"
   },
   {
    "duration": 11,
    "start_time": "2024-05-30T16:44:25.164Z"
   },
   {
    "duration": 37,
    "start_time": "2024-05-30T16:44:28.770Z"
   },
   {
    "duration": 11,
    "start_time": "2024-05-30T16:44:31.486Z"
   },
   {
    "duration": 8,
    "start_time": "2024-05-30T17:14:40.506Z"
   },
   {
    "duration": 845,
    "start_time": "2024-05-30T17:21:51.958Z"
   },
   {
    "duration": 27,
    "start_time": "2024-05-30T17:22:41.777Z"
   },
   {
    "duration": 12,
    "start_time": "2024-05-30T17:22:42.887Z"
   },
   {
    "duration": 80,
    "start_time": "2024-05-30T17:22:52.340Z"
   },
   {
    "duration": 26,
    "start_time": "2024-05-30T17:23:20.214Z"
   },
   {
    "duration": 26,
    "start_time": "2024-05-30T17:23:39.446Z"
   },
   {
    "duration": 19,
    "start_time": "2024-05-30T17:24:46.077Z"
   },
   {
    "duration": 10,
    "start_time": "2024-05-30T17:24:47.540Z"
   },
   {
    "duration": 19,
    "start_time": "2024-05-30T17:26:59.766Z"
   },
   {
    "duration": 31,
    "start_time": "2024-05-30T17:27:32.152Z"
   },
   {
    "duration": 6,
    "start_time": "2024-05-30T17:28:13.156Z"
   },
   {
    "duration": 21,
    "start_time": "2024-05-30T17:29:15.955Z"
   },
   {
    "duration": 14,
    "start_time": "2024-05-30T17:29:18.923Z"
   },
   {
    "duration": 14,
    "start_time": "2024-05-30T17:36:52.785Z"
   },
   {
    "duration": 27,
    "start_time": "2024-05-30T17:42:29.563Z"
   },
   {
    "duration": 10,
    "start_time": "2024-05-30T17:42:43.041Z"
   },
   {
    "duration": 23,
    "start_time": "2024-05-30T17:46:32.179Z"
   },
   {
    "duration": 12,
    "start_time": "2024-05-30T17:46:37.742Z"
   },
   {
    "duration": 560,
    "start_time": "2024-05-30T18:03:31.467Z"
   },
   {
    "duration": 221,
    "start_time": "2024-05-30T18:04:38.821Z"
   },
   {
    "duration": 141,
    "start_time": "2024-05-30T18:04:58.477Z"
   },
   {
    "duration": 122,
    "start_time": "2024-05-30T18:05:05.385Z"
   },
   {
    "duration": 528,
    "start_time": "2024-05-30T18:06:18.281Z"
   },
   {
    "duration": 6,
    "start_time": "2024-05-30T18:14:37.461Z"
   },
   {
    "duration": 6,
    "start_time": "2024-05-30T18:15:09.167Z"
   },
   {
    "duration": 5,
    "start_time": "2024-05-30T18:15:23.289Z"
   },
   {
    "duration": 7,
    "start_time": "2024-05-30T18:16:30.391Z"
   },
   {
    "duration": 7,
    "start_time": "2024-05-30T18:21:03.642Z"
   },
   {
    "duration": 7,
    "start_time": "2024-05-30T18:21:13.136Z"
   },
   {
    "duration": 31,
    "start_time": "2024-05-30T18:21:48.877Z"
   },
   {
    "duration": 18,
    "start_time": "2024-05-30T18:22:18.286Z"
   },
   {
    "duration": 24,
    "start_time": "2024-05-30T18:22:49.743Z"
   },
   {
    "duration": 39,
    "start_time": "2024-05-30T18:22:59.401Z"
   },
   {
    "duration": 37,
    "start_time": "2024-05-30T18:23:10.202Z"
   },
   {
    "duration": 29,
    "start_time": "2024-05-30T18:23:12.136Z"
   },
   {
    "duration": 30,
    "start_time": "2024-05-30T18:23:35.892Z"
   },
   {
    "duration": 24,
    "start_time": "2024-05-30T18:23:42.576Z"
   },
   {
    "duration": 21,
    "start_time": "2024-05-30T18:23:49.656Z"
   },
   {
    "duration": 60,
    "start_time": "2024-05-30T18:23:55.776Z"
   },
   {
    "duration": 57,
    "start_time": "2024-05-30T18:23:58.458Z"
   },
   {
    "duration": 539,
    "start_time": "2024-05-30T18:24:03.788Z"
   },
   {
    "duration": 95,
    "start_time": "2024-05-30T18:24:24.042Z"
   },
   {
    "duration": 60,
    "start_time": "2024-05-30T18:25:07.894Z"
   },
   {
    "duration": 17,
    "start_time": "2024-05-30T18:25:51.393Z"
   },
   {
    "duration": 19,
    "start_time": "2024-05-30T18:26:22.446Z"
   },
   {
    "duration": 14,
    "start_time": "2024-05-30T18:26:26.768Z"
   },
   {
    "duration": 13,
    "start_time": "2024-05-30T18:34:04.674Z"
   },
   {
    "duration": 12,
    "start_time": "2024-05-30T18:37:43.210Z"
   },
   {
    "duration": 7,
    "start_time": "2024-05-30T18:38:16.946Z"
   },
   {
    "duration": 14,
    "start_time": "2024-05-30T18:38:54.174Z"
   },
   {
    "duration": 8,
    "start_time": "2024-05-30T18:39:32.755Z"
   },
   {
    "duration": 9,
    "start_time": "2024-05-30T18:39:44.138Z"
   },
   {
    "duration": 8,
    "start_time": "2024-05-30T18:40:11.620Z"
   },
   {
    "duration": 7,
    "start_time": "2024-05-30T18:40:18.427Z"
   },
   {
    "duration": 7,
    "start_time": "2024-05-30T18:40:54.622Z"
   },
   {
    "duration": 14,
    "start_time": "2024-05-30T18:41:33.626Z"
   },
   {
    "duration": 8,
    "start_time": "2024-05-30T18:44:25.674Z"
   },
   {
    "duration": 12081,
    "start_time": "2024-05-30T18:46:35.680Z"
   },
   {
    "duration": 463,
    "start_time": "2024-05-30T18:47:37.442Z"
   },
   {
    "duration": 10,
    "start_time": "2024-05-30T18:47:57.697Z"
   },
   {
    "duration": 405,
    "start_time": "2024-05-30T18:54:22.093Z"
   },
   {
    "duration": 397,
    "start_time": "2024-05-30T18:54:27.306Z"
   },
   {
    "duration": 6,
    "start_time": "2024-05-30T18:54:36.034Z"
   },
   {
    "duration": 153,
    "start_time": "2024-05-30T18:54:40.958Z"
   },
   {
    "duration": 296,
    "start_time": "2024-05-30T18:55:16.610Z"
   },
   {
    "duration": 5,
    "start_time": "2024-05-30T18:55:20.074Z"
   },
   {
    "duration": 152,
    "start_time": "2024-05-30T18:55:24.956Z"
   },
   {
    "duration": 256,
    "start_time": "2024-05-30T18:55:32.076Z"
   },
   {
    "duration": 51,
    "start_time": "2024-05-30T18:55:49.191Z"
   },
   {
    "duration": 313,
    "start_time": "2024-05-30T18:55:58.513Z"
   },
   {
    "duration": 80,
    "start_time": "2024-05-30T18:56:03.608Z"
   },
   {
    "duration": 6,
    "start_time": "2024-05-30T18:56:15.029Z"
   },
   {
    "duration": 42,
    "start_time": "2024-05-30T18:56:20.363Z"
   },
   {
    "duration": 158,
    "start_time": "2024-05-30T18:56:26.793Z"
   },
   {
    "duration": 262,
    "start_time": "2024-05-30T18:57:59.087Z"
   },
   {
    "duration": 25,
    "start_time": "2024-05-30T18:58:25.011Z"
   },
   {
    "duration": 7,
    "start_time": "2024-05-30T18:58:31.082Z"
   },
   {
    "duration": 7,
    "start_time": "2024-05-30T18:58:32.114Z"
   },
   {
    "duration": 12,
    "start_time": "2024-05-30T18:58:50.033Z"
   }
  ],
  "colab": {
   "provenance": []
  },
  "kernelspec": {
   "display_name": "Python 3 (ipykernel)",
   "language": "python",
   "name": "python3"
  },
  "language_info": {
   "codemirror_mode": {
    "name": "ipython",
    "version": 3
   },
   "file_extension": ".py",
   "mimetype": "text/x-python",
   "name": "python",
   "nbconvert_exporter": "python",
   "pygments_lexer": "ipython3",
   "version": "3.9.19"
  },
  "toc": {
   "base_numbering": 1,
   "nav_menu": {},
   "number_sections": true,
   "sideBar": true,
   "skip_h1_title": false,
   "title_cell": "Table of Contents",
   "title_sidebar": "Contents",
   "toc_cell": false,
   "toc_position": {
    "height": "calc(100% - 180px)",
    "left": "10px",
    "top": "150px",
    "width": "165px"
   },
   "toc_section_display": true,
   "toc_window_display": true
  }
 },
 "nbformat": 4,
 "nbformat_minor": 1
}
